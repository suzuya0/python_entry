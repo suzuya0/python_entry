{
 "cells": [
  {
   "cell_type": "code",
   "execution_count": 1,
   "id": "0280a63e-4ef8-4ecd-b678-78aced496a8d",
   "metadata": {},
   "outputs": [
    {
     "name": "stdout",
     "output_type": "stream",
     "text": [
      "1\n",
      "10\n"
     ]
    }
   ],
   "source": [
    "print (1)\n",
    "print (10)"
   ]
  },
  {
   "cell_type": "code",
   "execution_count": 2,
   "id": "a2ebb237-aee5-405f-85bf-f8200ba8b1dc",
   "metadata": {},
   "outputs": [
    {
     "name": "stdout",
     "output_type": "stream",
     "text": [
      "2\n",
      "8\n"
     ]
    }
   ],
   "source": [
    "print(1 + 1)\n",
    "print(10 - 2)"
   ]
  },
  {
   "cell_type": "code",
   "execution_count": 3,
   "id": "8901c306-f2b0-41af-a9c1-8b322f310d6a",
   "metadata": {},
   "outputs": [
    {
     "name": "stdout",
     "output_type": "stream",
     "text": [
      "11\n"
     ]
    }
   ],
   "source": [
    "print(\"1\" + \"1\")"
   ]
  },
  {
   "cell_type": "code",
   "execution_count": 4,
   "id": "be71cedb-1100-4197-8f75-47bb43399b9e",
   "metadata": {},
   "outputs": [
    {
     "name": "stdout",
     "output_type": "stream",
     "text": [
      "Pythonの世界へようこそ\n",
      "Pythonはとってもとってもとっても楽しいですよ\n"
     ]
    }
   ],
   "source": [
    "print(\"Python\" + \"の世界へようこそ\")\n",
    "print(\"Pythonは\" + \"とっても\"*3 + \"楽しいですよ\")"
   ]
  },
  {
   "cell_type": "code",
   "execution_count": 6,
   "id": "2e7f9ef6-9f38-4475-a746-045f50f0d76b",
   "metadata": {},
   "outputs": [
    {
     "name": "stdout",
     "output_type": "stream",
     "text": [
      "はじめまして松田です身体を動かすのが好きです\n",
      "はじめまして\n",
      "松田です\n",
      "身体を動かすのが好きです\n",
      "引用符には'と\"があります\n"
     ]
    }
   ],
   "source": [
    "print(\"はじめまして松田です身体を動かすのが好きです\")\n",
    "print(\"はじめまして\\n松田です\\n身体を動かすのが好きです\")\n",
    "print(\"引用符には\\'と\\\"があります\")"
   ]
  },
  {
   "cell_type": "code",
   "execution_count": 7,
   "id": "dcd5253c-97c9-49d6-a7c9-d89eab7139c5",
   "metadata": {},
   "outputs": [
    {
     "name": "stdout",
     "output_type": "stream",
     "text": [
      "半径が3cmの円の直径は、\n",
      "6\n",
      "その円の円周の長さは、直径×円周率で求まるため、\n",
      "18.84\n"
     ]
    }
   ],
   "source": [
    "print(\"半径が3cmの円の直径は、\")\n",
    "print(3*2)\n",
    "print(\"その円の円周の長さは、直径×円周率で求まるため、\")\n",
    "print(3*2 * 3.14)"
   ]
  },
  {
   "cell_type": "code",
   "execution_count": 8,
   "id": "53edf939-c5a7-42a8-9041-6c81f00f61a9",
   "metadata": {},
   "outputs": [
    {
     "name": "stdout",
     "output_type": "stream",
     "text": [
      "松田\n",
      "22\n"
     ]
    }
   ],
   "source": [
    "name = \"松田\"\n",
    "age = 22\n",
    "print(name)\n",
    "print(age)"
   ]
  },
  {
   "cell_type": "code",
   "execution_count": 9,
   "id": "a9c300f3-1782-47aa-86e6-e377972256e9",
   "metadata": {},
   "outputs": [
    {
     "name": "stdout",
     "output_type": "stream",
     "text": [
      "半径が3cmの円の直径は\n",
      "6\n",
      "その円の円周の長さは、\n",
      "18.84\n"
     ]
    }
   ],
   "source": [
    "print(\"半径が3cmの円の直径は\")\n",
    "dia = 3*2\n",
    "print(dia)\n",
    "print(\"その円の円周の長さは、\")\n",
    "print(dia * 3.14)"
   ]
  },
  {
   "cell_type": "code",
   "execution_count": 10,
   "id": "ab95e696-ee43-4343-9a58-c5eecc6a88e8",
   "metadata": {},
   "outputs": [
    {
     "name": "stdout",
     "output_type": "stream",
     "text": [
      "浅木の年齢は\n",
      "20\n",
      "うそ。本当は\n",
      "24\n"
     ]
    }
   ],
   "source": [
    "age = 20\n",
    "print(\"浅木の年齢は\")\n",
    "print(age)\n",
    "age = 24\n",
    "print(\"うそ。本当は\")\n",
    "print(age)"
   ]
  },
  {
   "cell_type": "code",
   "execution_count": 11,
   "id": "85fc476a-4237-4e4a-822f-a07e9a8c1d1d",
   "metadata": {},
   "outputs": [
    {
     "name": "stdout",
     "output_type": "stream",
     "text": [
      "['False', 'None', 'True', '__peg_parser__', 'and', 'as', 'assert', 'async', 'await', 'break', 'class', 'continue', 'def', 'del', 'elif', 'else', 'except', 'finally', 'for', 'from', 'global', 'if', 'import', 'in', 'is', 'lambda', 'nonlocal', 'not', 'or', 'pass', 'raise', 'return', 'try', 'while', 'with', 'yield']\n"
     ]
    }
   ],
   "source": [
    "import keyword\n",
    "print(keyword.kwlist)"
   ]
  },
  {
   "cell_type": "code",
   "execution_count": 12,
   "id": "e10577b9-27a0-43e7-8fcc-59794bd32902",
   "metadata": {},
   "outputs": [],
   "source": [
    "name, age = \"浅木\", 24"
   ]
  },
  {
   "cell_type": "code",
   "execution_count": 13,
   "id": "64c2d834-1723-45c7-b23e-99a9f5dcbedb",
   "metadata": {},
   "outputs": [
    {
     "name": "stdout",
     "output_type": "stream",
     "text": [
      "浅木先輩の今年の年齢は…\n",
      "24\n",
      "来年は…\n",
      "25\n",
      "再来年は…\n",
      "26\n"
     ]
    }
   ],
   "source": [
    "age = 24\n",
    "print(\"浅木先輩の今年の年齢は…\")\n",
    "print(age)\n",
    "age = age + 1\n",
    "print(\"来年は…\")\n",
    "print(age)\n",
    "age = age + 1\n",
    "print(\"再来年は…\")\n",
    "print(age)      "
   ]
  },
  {
   "cell_type": "code",
   "execution_count": 15,
   "id": "d10e49e0-8c4c-4faf-8579-d84a2140024b",
   "metadata": {},
   "outputs": [
    {
     "name": "stdout",
     "output_type": "stream",
     "text": [
      "21\n",
      "1500.0\n"
     ]
    }
   ],
   "source": [
    "age = 20\n",
    "age += 1\n",
    "print(age)\n",
    "price = 1000\n",
    "price *= 1.5\n",
    "print(price)"
   ]
  },
  {
   "cell_type": "code",
   "execution_count": 16,
   "id": "dcd3f14d-1eae-4c6a-a380-8804bcfeac1a",
   "metadata": {},
   "outputs": [
    {
     "name": "stdin",
     "output_type": "stream",
     "text": [
      "あなたの名前を入力してください >> 浅木\n"
     ]
    },
    {
     "name": "stdout",
     "output_type": "stream",
     "text": [
      "おお浅木よ、そなたがくるのを待っておったぞ！\n"
     ]
    }
   ],
   "source": [
    "name = input(\"あなたの名前を入力してください >>\")\n",
    "print(\"おお\" + name + \"よ、そなたがくるのを待っておったぞ！\")"
   ]
  },
  {
   "cell_type": "code",
   "execution_count": 20,
   "id": "2b33fe3f-6c60-4f39-8ced-55b64ed78034",
   "metadata": {},
   "outputs": [
    {
     "name": "stdin",
     "output_type": "stream",
     "text": [
      "料金を入力>> 1000\n",
      "人数を入力>> 2\n"
     ]
    },
    {
     "ename": "TypeError",
     "evalue": "unsupported operand type(s) for /: 'str' and 'str'",
     "output_type": "error",
     "traceback": [
      "\u001b[0;31m---------------------------------------------------------------------------\u001b[0m",
      "\u001b[0;31mTypeError\u001b[0m                                 Traceback (most recent call last)",
      "\u001b[0;32m/var/folders/31/y_s4x26s04xcxrpvp649hyr40000gn/T/ipykernel_83364/144097483.py\u001b[0m in \u001b[0;36m<module>\u001b[0;34m\u001b[0m\n\u001b[1;32m      1\u001b[0m \u001b[0mprice\u001b[0m \u001b[0;34m=\u001b[0m \u001b[0minput\u001b[0m\u001b[0;34m(\u001b[0m\u001b[0;34m\"料金を入力>>\"\u001b[0m\u001b[0;34m)\u001b[0m\u001b[0;34m\u001b[0m\u001b[0;34m\u001b[0m\u001b[0m\n\u001b[1;32m      2\u001b[0m \u001b[0mnumber\u001b[0m \u001b[0;34m=\u001b[0m \u001b[0minput\u001b[0m\u001b[0;34m(\u001b[0m\u001b[0;34m\"人数を入力>>\"\u001b[0m\u001b[0;34m)\u001b[0m\u001b[0;34m\u001b[0m\u001b[0;34m\u001b[0m\u001b[0m\n\u001b[0;32m----> 3\u001b[0;31m \u001b[0mpayment\u001b[0m \u001b[0;34m=\u001b[0m \u001b[0mprice\u001b[0m \u001b[0;34m/\u001b[0m \u001b[0mnumber\u001b[0m\u001b[0;34m\u001b[0m\u001b[0;34m\u001b[0m\u001b[0m\n\u001b[0m\u001b[1;32m      4\u001b[0m \u001b[0mprint\u001b[0m\u001b[0;34m(\u001b[0m\u001b[0;34m\"お支払いは\"\u001b[0m \u001b[0;34m+\u001b[0m \u001b[0mpayment\u001b[0m \u001b[0;34m+\u001b[0m \u001b[0;34m\"円です\"\u001b[0m\u001b[0;34m)\u001b[0m\u001b[0;34m\u001b[0m\u001b[0;34m\u001b[0m\u001b[0m\n",
      "\u001b[0;31mTypeError\u001b[0m: unsupported operand type(s) for /: 'str' and 'str'"
     ]
    }
   ],
   "source": [
    "price = input(\"料金を入力>>\")\n",
    "number = input(\"人数を入力>>\")\n",
    "payment = price / number\n",
    "print(\"お支払いは\" + payment + \"円です\")"
   ]
  },
  {
   "cell_type": "code",
   "execution_count": 21,
   "id": "bda90578-6159-4e28-bf6f-5da8686641a0",
   "metadata": {},
   "outputs": [
    {
     "name": "stdout",
     "output_type": "stream",
     "text": [
      "<class 'int'>\n"
     ]
    }
   ],
   "source": [
    "x = 10\n",
    "print(type(x))"
   ]
  },
  {
   "cell_type": "code",
   "execution_count": 22,
   "id": "2fdb75c3-26c0-4ea4-92df-3437f470f0a2",
   "metadata": {},
   "outputs": [
    {
     "name": "stdin",
     "output_type": "stream",
     "text": [
      "料金を入力>> 1000\n"
     ]
    },
    {
     "name": "stdout",
     "output_type": "stream",
     "text": [
      "<class 'str'>\n"
     ]
    }
   ],
   "source": [
    "price = input(\"料金を入力>>\")\n",
    "print(type(price))"
   ]
  },
  {
   "cell_type": "code",
   "execution_count": 23,
   "id": "55c38da0-e4ff-400d-9a69-8930931e45e9",
   "metadata": {},
   "outputs": [
    {
     "name": "stdout",
     "output_type": "stream",
     "text": [
      "3\n",
      "<class 'int'>\n",
      "3.14\n",
      "<class 'str'>\n",
      "3.143.14\n"
     ]
    }
   ],
   "source": [
    "x = 3.14\n",
    "y = int(x)\n",
    "print(y)\n",
    "print(type(y))\n",
    "z = str(x)\n",
    "print(z)\n",
    "print(type(z))\n",
    "print(z*2)"
   ]
  },
  {
   "cell_type": "code",
   "execution_count": 2,
   "id": "80e06cf5-fd0f-48be-b5a6-fe92dddb1577",
   "metadata": {},
   "outputs": [
    {
     "name": "stdin",
     "output_type": "stream",
     "text": [
      "料金を入力>> 15000\n",
      "人数を入力>> 3\n"
     ]
    },
    {
     "name": "stdout",
     "output_type": "stream",
     "text": [
      "お支払いは5000円です\n"
     ]
    }
   ],
   "source": [
    "price = input(\"料金を入力>>\")\n",
    "# price = int(price)\n",
    "number = input(\"人数を入力>>\")\n",
    "# number = int(number)\n",
    "payment = int(price) / int(number)\n",
    "payment = int(payment)\n",
    "print(\"お支払いは\" + str(payment) + \"円です\")"
   ]
  },
  {
   "cell_type": "code",
   "execution_count": 3,
   "id": "c263b982-53c6-4ddf-93c9-8dd69adef939",
   "metadata": {},
   "outputs": [
    {
     "name": "stdout",
     "output_type": "stream",
     "text": [
      "私の名前は松田光太で、年齢は23歳で、身長は175.6cmです\n"
     ]
    }
   ],
   "source": [
    "name = \"松田光太\"\n",
    "age = 23\n",
    "height = 175.6\n",
    "print(\"私の名前は{}で、年齢は{}歳で、身長は{}cmです\"\n",
    "     .format(name, age, height))"
   ]
  },
  {
   "cell_type": "code",
   "execution_count": 4,
   "id": "30e8306f-3104-4bed-ab0c-1dbd389ae8de",
   "metadata": {},
   "outputs": [
    {
     "name": "stdout",
     "output_type": "stream",
     "text": [
      "私の名前は松田光太で、年齢は23歳で、身長は175.6cmです\n"
     ]
    }
   ],
   "source": [
    "name = \"松田光太\"\n",
    "age = 23\n",
    "height = 175.6\n",
    "print(f\"私の名前は{name}で、年齢は{age}歳で、身長は{height}cmです\")"
   ]
  },
  {
   "cell_type": "code",
   "execution_count": 7,
   "id": "84665c17-f9bc-49dc-9e45-99d043ec931a",
   "metadata": {},
   "outputs": [
    {
     "name": "stdin",
     "output_type": "stream",
     "text": [
      "料金を入力>> 7300\n",
      "人数を入力>> 3\n"
     ]
    },
    {
     "name": "stdout",
     "output_type": "stream",
     "text": [
      "お支払いは2433円です\n"
     ]
    }
   ],
   "source": [
    "price = int(input(\"料金を入力>>\"))\n",
    "number = int(input(\"人数を入力>>\"))\n",
    "payment = int(price / number)\n",
    "print(f\"お支払いは{payment}円です\")"
   ]
  },
  {
   "cell_type": "code",
   "execution_count": 15,
   "id": "2475f05c-ac7b-4513-9d48-d27ae0161dd1",
   "metadata": {},
   "outputs": [
    {
     "name": "stdin",
     "output_type": "stream",
     "text": [
      "身長(cm)を入力>> 175.0\n",
      "体重(kg)を入力>> 62.5\n"
     ]
    },
    {
     "name": "stdout",
     "output_type": "stream",
     "text": [
      "あなたのBMIは20.408163265306122です\n"
     ]
    }
   ],
   "source": [
    "height = float(input(\"身長(cm)を入力>>\"))/100\n",
    "weight = float(input(\"体重(kg)を入力>>\"))\n",
    "bmi = weight / height**2\n",
    "print(f\"あなたのBMIは{bmi}です\")"
   ]
  },
  {
   "cell_type": "code",
   "execution_count": null,
   "id": "c4808672-764d-403e-9eef-73b4a626ee3d",
   "metadata": {},
   "outputs": [],
   "source": []
  }
 ],
 "metadata": {
  "kernelspec": {
   "display_name": "Python 3 (ipykernel)",
   "language": "python",
   "name": "python3"
  },
  "language_info": {
   "codemirror_mode": {
    "name": "ipython",
    "version": 3
   },
   "file_extension": ".py",
   "mimetype": "text/x-python",
   "name": "python",
   "nbconvert_exporter": "python",
   "pygments_lexer": "ipython3",
   "version": "3.9.7"
  }
 },
 "nbformat": 4,
 "nbformat_minor": 5
}
