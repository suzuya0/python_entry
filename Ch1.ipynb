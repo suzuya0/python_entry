{
 "cells": [
  {
   "cell_type": "code",
   "execution_count": 1,
   "id": "0280a63e-4ef8-4ecd-b678-78aced496a8d",
   "metadata": {},
   "outputs": [
    {
     "name": "stdout",
     "output_type": "stream",
     "text": [
      "1\n",
      "10\n"
     ]
    }
   ],
   "source": [
    "print (1)\n",
    "print (10)"
   ]
  },
  {
   "cell_type": "code",
   "execution_count": 2,
   "id": "a2ebb237-aee5-405f-85bf-f8200ba8b1dc",
   "metadata": {},
   "outputs": [
    {
     "name": "stdout",
     "output_type": "stream",
     "text": [
      "2\n",
      "8\n"
     ]
    }
   ],
   "source": [
    "print(1 + 1)\n",
    "print(10 - 2)"
   ]
  },
  {
   "cell_type": "code",
   "execution_count": 3,
   "id": "8901c306-f2b0-41af-a9c1-8b322f310d6a",
   "metadata": {},
   "outputs": [
    {
     "name": "stdout",
     "output_type": "stream",
     "text": [
      "11\n"
     ]
    }
   ],
   "source": [
    "print(\"1\" + \"1\")"
   ]
  },
  {
   "cell_type": "code",
   "execution_count": 4,
   "id": "be71cedb-1100-4197-8f75-47bb43399b9e",
   "metadata": {},
   "outputs": [
    {
     "name": "stdout",
     "output_type": "stream",
     "text": [
      "Pythonの世界へようこそ\n",
      "Pythonはとってもとってもとっても楽しいですよ\n"
     ]
    }
   ],
   "source": [
    "print(\"Python\" + \"の世界へようこそ\")\n",
    "print(\"Pythonは\" + \"とっても\"*3 + \"楽しいですよ\")"
   ]
  },
  {
   "cell_type": "code",
   "execution_count": 6,
   "id": "2e7f9ef6-9f38-4475-a746-045f50f0d76b",
   "metadata": {},
   "outputs": [
    {
     "name": "stdout",
     "output_type": "stream",
     "text": [
      "はじめまして松田です身体を動かすのが好きです\n",
      "はじめまして\n",
      "松田です\n",
      "身体を動かすのが好きです\n",
      "引用符には'と\"があります\n"
     ]
    }
   ],
   "source": [
    "print(\"はじめまして松田です身体を動かすのが好きです\")\n",
    "print(\"はじめまして\\n松田です\\n身体を動かすのが好きです\")\n",
    "print(\"引用符には\\'と\\\"があります\")"
   ]
  },
  {
   "cell_type": "code",
   "execution_count": null,
   "id": "dcd5253c-97c9-49d6-a7c9-d89eab7139c5",
   "metadata": {},
   "outputs": [],
   "source": []
  }
 ],
 "metadata": {
  "kernelspec": {
   "display_name": "Python 3 (ipykernel)",
   "language": "python",
   "name": "python3"
  },
  "language_info": {
   "codemirror_mode": {
    "name": "ipython",
    "version": 3
   },
   "file_extension": ".py",
   "mimetype": "text/x-python",
   "name": "python",
   "nbconvert_exporter": "python",
   "pygments_lexer": "ipython3",
   "version": "3.9.7"
  }
 },
 "nbformat": 4,
 "nbformat_minor": 5
}
