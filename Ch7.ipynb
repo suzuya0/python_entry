{
 "cells": [
  {
   "cell_type": "code",
   "execution_count": 2,
   "id": "637a07b7-409f-4f2f-bd88-daa60bb9853b",
   "metadata": {},
   "outputs": [
    {
     "name": "stdin",
     "output_type": "stream",
     "text": [
      "何を記録しますか?>> 7月16日は1人焼き鳥、ボーリング\n"
     ]
    }
   ],
   "source": [
    "text = input('何を記録しますか?>>')\n",
    "file = open('diary.txt', 'a')\n",
    "file.write(text + '\\n')\n",
    "file.close()"
   ]
  },
  {
   "cell_type": "code",
   "execution_count": 3,
   "id": "208edfa6-c90d-4f2b-8527-8f1b43ce8253",
   "metadata": {},
   "outputs": [
    {
     "name": "stdin",
     "output_type": "stream",
     "text": [
      "今日は何をした?>> 12月7日、1日勉強\n"
     ]
    }
   ],
   "source": [
    "text  = input('今日は何をした?>>')\n",
    "with open('diary.txt','a') as file:\n",
    "    file.write(text + '\\n')"
   ]
  },
  {
   "cell_type": "code",
   "execution_count": null,
   "id": "d848aae3-aa9b-4b21-a84c-ed517f6e3024",
   "metadata": {},
   "outputs": [],
   "source": []
  }
 ],
 "metadata": {
  "kernelspec": {
   "display_name": "Python 3 (ipykernel)",
   "language": "python",
   "name": "python3"
  },
  "language_info": {
   "codemirror_mode": {
    "name": "ipython",
    "version": 3
   },
   "file_extension": ".py",
   "mimetype": "text/x-python",
   "name": "python",
   "nbconvert_exporter": "python",
   "pygments_lexer": "ipython3",
   "version": "3.9.7"
  }
 },
 "nbformat": 4,
 "nbformat_minor": 5
}
