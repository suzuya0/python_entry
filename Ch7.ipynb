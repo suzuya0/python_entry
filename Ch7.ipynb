{
 "cells": [
  {
   "cell_type": "code",
   "execution_count": 2,
   "id": "637a07b7-409f-4f2f-bd88-daa60bb9853b",
   "metadata": {},
   "outputs": [
    {
     "name": "stdin",
     "output_type": "stream",
     "text": [
      "何を記録しますか?>> 7月16日は1人焼き鳥、ボーリング\n"
     ]
    }
   ],
   "source": [
    "text = input('何を記録しますか?>>')\n",
    "file = open('diary.txt', 'a')\n",
    "file.write(text + '\\n')\n",
    "file.close()"
   ]
  },
  {
   "cell_type": "code",
   "execution_count": 3,
   "id": "208edfa6-c90d-4f2b-8527-8f1b43ce8253",
   "metadata": {},
   "outputs": [
    {
     "name": "stdin",
     "output_type": "stream",
     "text": [
      "今日は何をした?>> 12月7日、1日勉強\n"
     ]
    }
   ],
   "source": [
    "text  = input('今日は何をした?>>')\n",
    "with open('diary.txt','a') as file:\n",
    "    file.write(text + '\\n')"
   ]
  },
  {
   "cell_type": "code",
   "execution_count": 6,
   "id": "d848aae3-aa9b-4b21-a84c-ed517f6e3024",
   "metadata": {},
   "outputs": [
    {
     "name": "stdout",
     "output_type": "stream",
     "text": [
      "円周率は3.141592653589793です\n",
      "小数点以下を切り捨てれば3\n",
      "小数点以下を切り上げれば4\n"
     ]
    }
   ],
   "source": [
    "import math\n",
    "print(f'円周率は{math.pi}です')\n",
    "print(f'小数点以下を切り捨てれば{math.floor(math.pi)}')\n",
    "print(f'小数点以下を切り上げれば{math.ceil(math.pi)}')"
   ]
  },
  {
   "cell_type": "code",
   "execution_count": 2,
   "id": "cba562f5-5466-4226-8a3f-3a317278fd3c",
   "metadata": {},
   "outputs": [
    {
     "name": "stdout",
     "output_type": "stream",
     "text": [
      "円周率は3.141592653589793です\n",
      "小数点以下を切り捨てれば3です\n",
      "小数点以下を切り上げれば3です\n"
     ]
    }
   ],
   "source": [
    "import math as m\n",
    "print('円周率は{}です'.format(m.pi))\n",
    "print('小数点以下を切り捨てれば{}です'.format(m.floor(m.pi)))\n",
    "print('小数点以下を切り上げれば{}です'.format(m.floor(m.pi)))"
   ]
  },
  {
   "cell_type": "code",
   "execution_count": 3,
   "id": "2b213380-d490-4000-8cf5-0e6ed77bc8ea",
   "metadata": {},
   "outputs": [
    {
     "name": "stdout",
     "output_type": "stream",
     "text": [
      "円周率は3.141592653589793\n",
      "小数点以下を切り捨てれば3です\n"
     ]
    }
   ],
   "source": [
    "from math import pi\n",
    "from math import floor\n",
    "print('円周率は{}'.format(pi))\n",
    "print('小数点以下を切り捨てれば{}です'.format(floor(pi)))"
   ]
  },
  {
   "cell_type": "code",
   "execution_count": 4,
   "id": "61414a91-e12f-42fc-8dac-8f07cfa3eade",
   "metadata": {},
   "outputs": [
    {
     "name": "stdout",
     "output_type": "stream",
     "text": [
      "10を記録します\n"
     ]
    }
   ],
   "source": [
    "from math import log\n",
    "def log(msg):\n",
    "    print('{}を記録します'.format(msg))\n",
    "log(10)"
   ]
  },
  {
   "cell_type": "code",
   "execution_count": 5,
   "id": "c9810306-e075-4e74-9472-ab6e51f1bdc6",
   "metadata": {},
   "outputs": [
    {
     "name": "stdout",
     "output_type": "stream",
     "text": [
      "円周率は3.141592653589793\n",
      "小数点以下を切り捨てれば3です\n"
     ]
    }
   ],
   "source": [
    "from math import pi as ensyuritsu\n",
    "from math import floor as kirisute\n",
    "print('円周率は{}'.format(ensyuritsu))\n",
    "print('小数点以下を切り捨てれば{}です'.format(kirisute(ensyuritsu)))"
   ]
  },
  {
   "cell_type": "code",
   "execution_count": 6,
   "id": "453e3858-17b7-4288-a3f7-ab7688cb78cb",
   "metadata": {},
   "outputs": [
    {
     "name": "stdout",
     "output_type": "stream",
     "text": [
      "円周率は3.141592653589793です\n",
      "小数点以下を切り捨てれば3です\n",
      "小数点以下を切り上げれば4です\n"
     ]
    }
   ],
   "source": [
    "from math import *\n",
    "print('円周率は{}です'.format(pi))\n",
    "print('小数点以下を切り捨てれば{}です'.format(floor(pi)))\n",
    "print('小数点以下を切り上げれば{}です'.format(ceil(pi)))"
   ]
  },
  {
   "cell_type": "code",
   "execution_count": 5,
   "id": "1da10bcc-c920-425f-9814-5683d847df3d",
   "metadata": {},
   "outputs": [],
   "source": [
    "import http.client\n",
    "conn = http.client.HTTPConnection('www.pyhon.org')"
   ]
  },
  {
   "cell_type": "code",
   "execution_count": 3,
   "id": "98b55aee-99ca-4504-9469-aafa5401fbfa",
   "metadata": {},
   "outputs": [],
   "source": [
    "from http import client\n",
    "conn = client.HTTPConnection('www.python.org')"
   ]
  },
  {
   "cell_type": "code",
   "execution_count": 6,
   "id": "97d6da33-33f4-4a42-a4e2-f63f62ca9cf4",
   "metadata": {},
   "outputs": [],
   "source": [
    "from http.client import HTTPConnection\n",
    "conn = HTTPConnection('www.python.org')"
   ]
  },
  {
   "cell_type": "code",
   "execution_count": 7,
   "id": "471146b5-02f7-4969-ba61-7aea13147323",
   "metadata": {},
   "outputs": [
    {
     "data": {
      "text/plain": [
       "[<matplotlib.lines.Line2D at 0x7fbea21d5910>]"
      ]
     },
     "execution_count": 7,
     "metadata": {},
     "output_type": "execute_result"
    },
    {
     "data": {
      "image/png": "[encoded data removed]",
      "text/plain": [
       "<Figure size 432x288 with 1 Axes>"
      ]
     },
     "metadata": {
      "needs_background": "light"
     },
     "output_type": "display_data"
    }
   ],
   "source": [
    "%matplotlib inline\n",
    "import matplotlib.pyplot as plt\n",
    "weight = [68.4, 68.0, 69.5, 68.4, 68.6, 70.2, 71.4, 70.8, 68.5, 68.6, 68.3, 68.4]\n",
    "plt.plot(weight)"
   ]
  },
  {
   "cell_type": "code",
   "execution_count": 9,
   "id": "429632c5-b846-4648-9ab3-03bb5557c655",
   "metadata": {},
   "outputs": [],
   "source": [
    "import requests\n",
    "response = requests.get('https://www.python.org/downloads/')\n",
    "text = response.text\n",
    "# print(text)"
   ]
  },
  {
   "cell_type": "code",
   "execution_count": 12,
   "id": "6b24e005-c74a-4eec-aef7-62810e465d12",
   "metadata": {},
   "outputs": [],
   "source": [
    "import http.client\n",
    "conn = http.client.HTTPSConnection('www.python.org')\n",
    "conn.request('GET', '/downloads/')\n",
    "response = conn.getresponse()\n",
    "text = response.read().decode('UTF-8')\n",
    "# print(text)\n",
    "conn.close()"
   ]
  },
  {
   "cell_type": "code",
   "execution_count": 15,
   "id": "35c80181-cd73-445b-aac2-a68af94199d5",
   "metadata": {},
   "outputs": [
    {
     "name": "stdin",
     "output_type": "stream",
     "text": [
      "1個目の整数を入力してださい>> 1\n",
      "2個目の整数を入力してださい>> 80\n",
      "3個目の整数を入力してださい>> 7\n"
     ]
    },
    {
     "name": "stdout",
     "output_type": "stream",
     "text": [
      "80\n"
     ]
    }
   ],
   "source": [
    "nums = list()\n",
    "for n in range(3):\n",
    "    data = int(input('{}個目の整数を入力してださい>>'.format(n+1)))\n",
    "    nums.append(data)\n",
    "print(max(nums))"
   ]
  },
  {
   "cell_type": "code",
   "execution_count": 18,
   "id": "2735f3d2-1543-4a82-abea-555907e9d69f",
   "metadata": {},
   "outputs": [
    {
     "name": "stdout",
     "output_type": "stream",
     "text": [
      "3\n",
      "3.1\n",
      "3.14\n",
      "3.142\n",
      "3.1415\n"
     ]
    }
   ],
   "source": [
    "pi = 3.141519\n",
    "print(round(pi))\n",
    "for n in range(4):\n",
    "    print(round(pi, n + 1 ))"
   ]
  },
  {
   "cell_type": "code",
   "execution_count": 19,
   "id": "08bd7f3a-0bbf-4d12-ac56-3fbaf0ccd10b",
   "metadata": {},
   "outputs": [
    {
     "ename": "FileNotFoundError",
     "evalue": "[Errno 2] No such file or directory: 'sample.txt'",
     "output_type": "error",
     "traceback": [
      "\u001b[0;31m---------------------------------------------------------------------------\u001b[0m",
      "\u001b[0;31mFileNotFoundError\u001b[0m                         Traceback (most recent call last)",
      "\u001b[0;32m/var/folders/31/y_s4x26s04xcxrpvp649hyr40000gn/T/ipykernel_8179/3815601352.py\u001b[0m in \u001b[0;36m<module>\u001b[0;34m\u001b[0m\n\u001b[0;32m----> 1\u001b[0;31m \u001b[0mfile\u001b[0m \u001b[0;34m=\u001b[0m \u001b[0mopen\u001b[0m\u001b[0;34m(\u001b[0m\u001b[0;34m'sample.txt'\u001b[0m\u001b[0;34m,\u001b[0m\u001b[0;34m'r'\u001b[0m\u001b[0;34m)\u001b[0m\u001b[0;34m\u001b[0m\u001b[0;34m\u001b[0m\u001b[0m\n\u001b[0m\u001b[1;32m      2\u001b[0m \u001b[0;32mfor\u001b[0m \u001b[0mline\u001b[0m \u001b[0;32min\u001b[0m \u001b[0mfile\u001b[0m\u001b[0;34m:\u001b[0m\u001b[0;34m\u001b[0m\u001b[0;34m\u001b[0m\u001b[0m\n\u001b[1;32m      3\u001b[0m     \u001b[0mprint\u001b[0m\u001b[0;34m(\u001b[0m\u001b[0mline\u001b[0m\u001b[0;34m)\u001b[0m\u001b[0;34m\u001b[0m\u001b[0;34m\u001b[0m\u001b[0m\n\u001b[1;32m      4\u001b[0m \u001b[0mfile\u001b[0m\u001b[0;34m.\u001b[0m\u001b[0mclose\u001b[0m\u001b[0;34m(\u001b[0m\u001b[0;34m)\u001b[0m\u001b[0;34m\u001b[0m\u001b[0;34m\u001b[0m\u001b[0m\n",
      "\u001b[0;31mFileNotFoundError\u001b[0m: [Errno 2] No such file or directory: 'sample.txt'"
     ]
    }
   ],
   "source": [
    "file = open('sample.txt','r')\n",
    "for line in file:\n",
    "    print(line)\n",
    "file.close()"
   ]
  },
  {
   "cell_type": "code",
   "execution_count": 20,
   "id": "8c098e87-5c07-4883-97f2-6aaae37d7d55",
   "metadata": {},
   "outputs": [
    {
     "ename": "FileNotFoundError",
     "evalue": "[Errno 2] No such file or directory: 'sample.txt'",
     "output_type": "error",
     "traceback": [
      "\u001b[0;31m---------------------------------------------------------------------------\u001b[0m",
      "\u001b[0;31mFileNotFoundError\u001b[0m                         Traceback (most recent call last)",
      "\u001b[0;32m/var/folders/31/y_s4x26s04xcxrpvp649hyr40000gn/T/ipykernel_8179/4028528441.py\u001b[0m in \u001b[0;36m<module>\u001b[0;34m\u001b[0m\n\u001b[0;32m----> 1\u001b[0;31m \u001b[0mfile_r\u001b[0m \u001b[0;34m=\u001b[0m \u001b[0mopen\u001b[0m\u001b[0;34m(\u001b[0m\u001b[0;34m'sample.txt'\u001b[0m\u001b[0;34m,\u001b[0m \u001b[0;34m'r'\u001b[0m\u001b[0;34m)\u001b[0m\u001b[0;34m\u001b[0m\u001b[0;34m\u001b[0m\u001b[0m\n\u001b[0m\u001b[1;32m      2\u001b[0m \u001b[0mfile_w\u001b[0m \u001b[0;34m=\u001b[0m \u001b[0mopen\u001b[0m\u001b[0;34m(\u001b[0m\u001b[0;34m'copy.txt'\u001b[0m\u001b[0;34m,\u001b[0m \u001b[0;34m'w'\u001b[0m\u001b[0;34m)\u001b[0m\u001b[0;34m\u001b[0m\u001b[0;34m\u001b[0m\u001b[0m\n\u001b[1;32m      3\u001b[0m \u001b[0;32mfor\u001b[0m \u001b[0mline\u001b[0m \u001b[0;32min\u001b[0m \u001b[0mfile_r\u001b[0m\u001b[0;34m:\u001b[0m\u001b[0;34m\u001b[0m\u001b[0;34m\u001b[0m\u001b[0m\n\u001b[1;32m      4\u001b[0m     \u001b[0mfile_w\u001b[0m\u001b[0;34m.\u001b[0m\u001b[0mwrite\u001b[0m\u001b[0;34m(\u001b[0m\u001b[0mline\u001b[0m\u001b[0;34m)\u001b[0m\u001b[0;34m\u001b[0m\u001b[0;34m\u001b[0m\u001b[0m\n\u001b[1;32m      5\u001b[0m \u001b[0mfile_r\u001b[0m\u001b[0;34m.\u001b[0m\u001b[0mclose\u001b[0m\u001b[0;34m(\u001b[0m\u001b[0;34m)\u001b[0m\u001b[0;34m\u001b[0m\u001b[0;34m\u001b[0m\u001b[0m\n",
      "\u001b[0;31mFileNotFoundError\u001b[0m: [Errno 2] No such file or directory: 'sample.txt'"
     ]
    }
   ],
   "source": [
    "file_r = open('sample.txt', 'r')\n",
    "file_w = open('copy.txt', 'w')\n",
    "for line in file_r:\n",
    "    file_w.write(line)\n",
    "file_r.close()\n",
    "file_w.close()"
   ]
  },
  {
   "cell_type": "code",
   "execution_count": 25,
   "id": "d4c25ab4-ce10-4e3d-b940-5d7c7f07d8d3",
   "metadata": {},
   "outputs": [
    {
     "name": "stdout",
     "output_type": "stream",
     "text": [
      "数当てゲームを始めます。3桁の数を当ててください\n"
     ]
    },
    {
     "name": "stdin",
     "output_type": "stream",
     "text": [
      "1桁目の予想入力(0~9) >> 8\n",
      "2桁目の予想入力(0~9) >> 6\n",
      "3桁目の予想入力(0~9) >> 0\n"
     ]
    },
    {
     "name": "stdout",
     "output_type": "stream",
     "text": [
      "1ヒット!1ボール!\n"
     ]
    },
    {
     "name": "stdin",
     "output_type": "stream",
     "text": [
      "続けますか? 1:続ける 2:終了　>> 2\n"
     ]
    },
    {
     "name": "stdout",
     "output_type": "stream",
     "text": [
      "正解は061でした\n"
     ]
    }
   ],
   "source": [
    "# randonモジュールのrandint関数を取り込む\n",
    "from random import randint\n",
    "print('数当てゲームを始めます。3桁の数を当ててください')\n",
    "\n",
    "# 正解を作成\n",
    "answer = list()\n",
    "for n in range(3):\n",
    "    answer.append(randint(0, 9))\n",
    "\n",
    "is_continue = True\n",
    "while is_continue == True:\n",
    "    #予想の入力\n",
    "    prediction = list()\n",
    "    for n in range(3):\n",
    "        data = int(input('{}桁目の予想入力(0~9) >>'.format(n + 1)))\n",
    "        prediction.append(data)\n",
    "    \n",
    "    #答え合わせ\n",
    "    hit = 0\n",
    "    blow = 0\n",
    "    for n in range(3):\n",
    "        if prediction[n] == answer[n]:\n",
    "            hit += 1\n",
    "        else:\n",
    "            for m in range(3):\n",
    "                if prediction[n] == answer[m] and n != m:\n",
    "                    blow += 1\n",
    "                    \n",
    "    #結果発表\n",
    "    print('{}ヒット!{}ボール!'.format(hit, blow))\n",
    "    if hit == 3:\n",
    "        print('正解です!')\n",
    "        is_continue = False\n",
    "    else:\n",
    "        if int(input('続けますか? 1:続ける 2:終了　>>')) == 2:\n",
    "            print('正解は{}{}{}でした'.format(answer[0], answer[1], answer[2]))\n",
    "            is_continue = False"
   ]
  },
  {
   "cell_type": "code",
   "execution_count": null,
   "id": "b6cff0a4-3cdd-4743-af2a-1a6035c04cf7",
   "metadata": {},
   "outputs": [],
   "source": []
  }
 ],
 "metadata": {
  "kernelspec": {
   "display_name": "Python 3 (ipykernel)",
   "language": "python",
   "name": "python3"
  },
  "language_info": {
   "codemirror_mode": {
    "name": "ipython",
    "version": 3
   },
   "file_extension": ".py",
   "mimetype": "text/x-python",
   "name": "python",
   "nbconvert_exporter": "python",
   "pygments_lexer": "ipython3",
   "version": "3.9.7"
  }
 },
 "nbformat": 4,
 "nbformat_minor": 5
}
