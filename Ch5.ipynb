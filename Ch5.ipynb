{
 "cells": [
  {
   "cell_type": "code",
   "execution_count": 2,
   "id": "a4f54b25-db6a-4773-b242-ae6a62e88144",
   "metadata": {},
   "outputs": [
    {
     "name": "stdout",
     "output_type": "stream",
     "text": [
      "浅木さんの試験結果を入力してください\n"
     ]
    },
    {
     "name": "stdin",
     "output_type": "stream",
     "text": [
      "ネットワークの得点>> 90\n",
      "データベースの得点>> 88\n",
      "セキュリティの得点>> 92\n"
     ]
    },
    {
     "name": "stdout",
     "output_type": "stream",
     "text": [
      "松田さんの試験結果を入力してください\n"
     ]
    },
    {
     "name": "stdin",
     "output_type": "stream",
     "text": [
      "ネットワークの得点>> 40\n",
      "データベースの得点>> 60\n",
      "セキュリティの得点>> 50\n"
     ]
    },
    {
     "name": "stdout",
     "output_type": "stream",
     "text": [
      "浅木さんの平均点は90.0です\n",
      "松田さんの平均点は50.0です\n"
     ]
    }
   ],
   "source": [
    "student_list = ['浅木', '松田']\n",
    "count = 0\n",
    "for student in student_list:\n",
    "    print(f'{student}さんの試験結果を入力してください')\n",
    "    network = int(input('ネットワークの得点>>'))\n",
    "    database = int(input('データベースの得点>>'))\n",
    "    security = int(input('セキュリティの得点>>'))\n",
    "    if student == '浅木':\n",
    "        asagi_scores = [network, database, security]\n",
    "        asagi_avg = sum(asagi_scores) / len(asagi_scores)\n",
    "    else:\n",
    "        matsuda_scores = [network, database, security]\n",
    "        matsuda_avg = sum(matsuda_scores) / len(matsuda_scores)\n",
    "print(f'浅木さんの平均点は{asagi_avg}です')\n",
    "print(f'松田さんの平均点は{matsuda_avg}です')"
   ]
  },
  {
   "cell_type": "code",
   "execution_count": 3,
   "id": "cc457e11-160e-46d3-a509-39655f6505d5",
   "metadata": {},
   "outputs": [],
   "source": [
    "def input_scores(name):\n",
    "    print(f'{name}さんの試験結果を入力してください')\n",
    "    network = int(input('ネットワークの得点?'))\n",
    "    database = int(input('データベースの得点?'))\n",
    "    security = int(input('セキュリティの得点?'))\n",
    "    scores = [network, database, security]\n",
    "\n",
    "def calc_avarage(scores):\n",
    "    avg = sum(scores) / len(scores)\n",
    "    print(f'平均点は{avg}です')"
   ]
  },
  {
   "cell_type": "code",
   "execution_count": 4,
   "id": "5b9e5820-a9aa-405e-b660-c521688c0860",
   "metadata": {},
   "outputs": [
    {
     "name": "stdout",
     "output_type": "stream",
     "text": [
      "浅木さんの試験結果を入力してください\n"
     ]
    },
    {
     "name": "stdin",
     "output_type": "stream",
     "text": [
      "ネットワークの得点? 92\n",
      "データベースの得点? 88\n",
      "セキュリティの得点? 90\n"
     ]
    },
    {
     "ename": "NameError",
     "evalue": "name 'calc_average' is not defined",
     "output_type": "error",
     "traceback": [
      "\u001b[0;31m---------------------------------------------------------------------------\u001b[0m",
      "\u001b[0;31mNameError\u001b[0m                                 Traceback (most recent call last)",
      "\u001b[0;32m/var/folders/31/y_s4x26s04xcxrpvp649hyr40000gn/T/ipykernel_1010/2140830600.py\u001b[0m in \u001b[0;36m<module>\u001b[0;34m\u001b[0m\n\u001b[1;32m      1\u001b[0m \u001b[0minput_scores\u001b[0m\u001b[0;34m(\u001b[0m\u001b[0;34m'浅木'\u001b[0m\u001b[0;34m)\u001b[0m\u001b[0;34m\u001b[0m\u001b[0;34m\u001b[0m\u001b[0m\n\u001b[0;32m----> 2\u001b[0;31m \u001b[0mcalc_average\u001b[0m\u001b[0;34m(\u001b[0m\u001b[0mscores\u001b[0m\u001b[0;34m)\u001b[0m\u001b[0;34m\u001b[0m\u001b[0;34m\u001b[0m\u001b[0m\n\u001b[0m",
      "\u001b[0;31mNameError\u001b[0m: name 'calc_average' is not defined"
     ]
    }
   ],
   "source": [
    "input_scores('浅木')\n",
    "calc_average(scores)"
   ]
  },
  {
   "cell_type": "code",
   "execution_count": 1,
   "id": "4d91ddfc-4514-4faa-a6b5-2006e8b2f053",
   "metadata": {},
   "outputs": [],
   "source": [
    "def hello():\n",
    "    print('こんにちは、工藤です')"
   ]
  },
  {
   "cell_type": "code",
   "execution_count": 2,
   "id": "c36482e4-ecce-4694-a362-f5499771cce4",
   "metadata": {},
   "outputs": [
    {
     "name": "stdout",
     "output_type": "stream",
     "text": [
      "こんにちは、工藤です\n"
     ]
    }
   ],
   "source": [
    "hello()"
   ]
  },
  {
   "cell_type": "code",
   "execution_count": 4,
   "id": "83409526-20cf-412d-b7eb-35ca6775923f",
   "metadata": {},
   "outputs": [],
   "source": [
    "def hello(name):\n",
    "    print(f'こんにちは。{name}です')"
   ]
  },
  {
   "cell_type": "code",
   "execution_count": 5,
   "id": "7bee2dad-6c82-46f8-81e4-1bd6b680ca29",
   "metadata": {},
   "outputs": [
    {
     "name": "stdout",
     "output_type": "stream",
     "text": [
      "こんにちは。工藤です\n"
     ]
    }
   ],
   "source": [
    "hello('工藤')"
   ]
  },
  {
   "cell_type": "code",
   "execution_count": 6,
   "id": "aa781a03-b779-40f2-83cd-cc34b8b3cb68",
   "metadata": {},
   "outputs": [],
   "source": [
    "def profiel(name, age, hobby):\n",
    "    print(f'私の名前は{name}です')\n",
    "    print(f'年齢は{age}歳です')\n",
    "    print(f'趣味は{hobby}です')"
   ]
  },
  {
   "cell_type": "code",
   "execution_count": 7,
   "id": "034d8550-4b35-45cc-845c-98623be029f4",
   "metadata": {},
   "outputs": [
    {
     "name": "stdout",
     "output_type": "stream",
     "text": [
      "私の名前は浅木です\n",
      "年齢は24歳です\n",
      "趣味はカフェ巡りです\n"
     ]
    }
   ],
   "source": [
    "profiel('浅木','24','カフェ巡り')"
   ]
  },
  {
   "cell_type": "code",
   "execution_count": 5,
   "id": "5403fad9-df6e-43d6-a7fd-f85f64119883",
   "metadata": {},
   "outputs": [],
   "source": [
    "def plus(x, y):\n",
    "    answer = x + y\n",
    "    return answer"
   ]
  },
  {
   "cell_type": "code",
   "execution_count": 6,
   "id": "6626e91f-d8a0-44d2-8983-96d240020b0f",
   "metadata": {},
   "outputs": [
    {
     "name": "stdout",
     "output_type": "stream",
     "text": [
      "足し算の答えは150です\n"
     ]
    }
   ],
   "source": [
    "answer = plus(100, 50)\n",
    "print('足し算の答えは{}です'.format(answer))"
   ]
  },
  {
   "cell_type": "code",
   "execution_count": 15,
   "id": "aeab93db-e7d7-4b53-99ba-4614c2b7bca7",
   "metadata": {},
   "outputs": [],
   "source": [
    "def input_scores(name):\n",
    "    print(f'{name}さんの試験結果を入力してください')\n",
    "    network = int(input('ネットワークの得点?>>'))\n",
    "    database = int(input('データベースの得点?>>'))\n",
    "    security = int(input('セキュリティの得点?>>'))\n",
    "    scores = [network, database, security]\n",
    "    return scores\n",
    "\n",
    "def calc_average(scores):\n",
    "    avg = sum(scores) / len(scores)\n",
    "    return avg\n",
    "\n",
    "def output_result(name, avg):\n",
    "    print(f'{name}さんの平均点は{avg}です')"
   ]
  },
  {
   "cell_type": "code",
   "execution_count": 16,
   "id": "6af2e0cf-455b-4736-8b5f-bf589d17a575",
   "metadata": {},
   "outputs": [
    {
     "name": "stdout",
     "output_type": "stream",
     "text": [
      "浅木さんの試験結果を入力してください\n"
     ]
    },
    {
     "name": "stdin",
     "output_type": "stream",
     "text": [
      "ネットワークの得点?>> 90\n",
      "データベースの得点?>> 88\n",
      "セキュリティの得点?>> 92\n"
     ]
    },
    {
     "name": "stdout",
     "output_type": "stream",
     "text": [
      "松田さんの試験結果を入力してください\n"
     ]
    },
    {
     "name": "stdin",
     "output_type": "stream",
     "text": [
      "ネットワークの得点?>> 60\n",
      "データベースの得点?>> 40\n",
      "セキュリティの得点?>> 50\n"
     ]
    },
    {
     "name": "stdout",
     "output_type": "stream",
     "text": [
      "浅木さんの平均点は90.0です\n",
      "松田さんの平均点は50.0です\n"
     ]
    }
   ],
   "source": [
    "asagi_scores = input_scores('浅木')\n",
    "matsuda_scores = input_scores('松田')\n",
    "asagi_avg = calc_average(asagi_scores)\n",
    "matsuda_avg = calc_average(matsuda_scores)\n",
    "output_result('浅木', asagi_avg)\n",
    "output_result('松田', matsuda_avg)"
   ]
  },
  {
   "cell_type": "code",
   "execution_count": 18,
   "id": "e639ca7e-8db0-4da0-804f-e026ea6c8b18",
   "metadata": {},
   "outputs": [],
   "source": [
    "def plus_and_minus(a, b):\n",
    "    return a+b, a-b\n",
    "\n",
    "next, prev = plus_and_minus(1978, 1)"
   ]
  },
  {
   "cell_type": "code",
   "execution_count": 22,
   "id": "3f808f00-c8a2-40b7-8ea1-5bbd631c0fc9",
   "metadata": {},
   "outputs": [
    {
     "name": "stdout",
     "output_type": "stream",
     "text": [
      "1979\n",
      "1977\n"
     ]
    }
   ],
   "source": [
    "def plus_and_minus(a, b):\n",
    "    return (a+b, a-b)\n",
    "\n",
    "(next, prev) = plus_and_minus(1978, 1)\n",
    "\n",
    "print(next)\n",
    "print(prev)"
   ]
  },
  {
   "cell_type": "code",
   "execution_count": 25,
   "id": "7b17f26f-b7cc-468e-b025-ee9d39e4b254",
   "metadata": {},
   "outputs": [
    {
     "name": "stdout",
     "output_type": "stream",
     "text": [
      "朝はトーストを食べました\n",
      "昼はそばを食べました\n",
      "晩はカレーを食べました\n"
     ]
    }
   ],
   "source": [
    "def eat(breakfast, lunch, dinner='カレー'):\n",
    "    print(f'朝は{breakfast}を食べました')\n",
    "    print(f'昼は{lunch}を食べました')\n",
    "    print(f'晩は{dinner}を食べました')\n",
    "\n",
    "eat('トースト','そば')"
   ]
  },
  {
   "cell_type": "code",
   "execution_count": 26,
   "id": "9e5c802d-bc44-4f2c-a9c7-4eae1d950205",
   "metadata": {},
   "outputs": [
    {
     "ename": "SyntaxError",
     "evalue": "non-default argument follows default argument (3822632126.py, line 1)",
     "output_type": "error",
     "traceback": [
      "\u001b[0;36m  File \u001b[0;32m\"/var/folders/31/y_s4x26s04xcxrpvp649hyr40000gn/T/ipykernel_1010/3822632126.py\"\u001b[0;36m, line \u001b[0;32m1\u001b[0m\n\u001b[0;31m    def eat(breakfast='トースト', lunch, dinner):\u001b[0m\n\u001b[0m                                     ^\u001b[0m\n\u001b[0;31mSyntaxError\u001b[0m\u001b[0;31m:\u001b[0m non-default argument follows default argument\n"
     ]
    }
   ],
   "source": [
    "def eat(breakfast='トースト', lunch, dinner):\n",
    "    print(f'朝は{breakfast}を食べました')\n",
    "    print(f'昼は{lunch}を食べました')\n",
    "    print(f'晩は{dinner}を食べました')"
   ]
  },
  {
   "cell_type": "code",
   "execution_count": 29,
   "id": "8ae6bee1-fcf9-474f-aafa-c3d0164efbd4",
   "metadata": {},
   "outputs": [
    {
     "name": "stdout",
     "output_type": "stream",
     "text": [
      "朝は納豆ごはんを食べました\n",
      "昼はラーメンを食べました\n",
      "晩はカレーうどんを食べました\n",
      "朝は納豆ごはんを食べました\n",
      "昼はラーメンを食べました\n",
      "晩はカレーうどんを食べました\n",
      "朝は納豆ごはんを食べました\n",
      "昼はラーメンを食べました\n",
      "晩はカレーうどんを食べました\n",
      "朝は納豆ごはんを食べました\n",
      "昼はラーメンを食べました\n",
      "晩はカレーうどんを食べました\n"
     ]
    }
   ],
   "source": [
    "def eat(breakfast,lunch='ラーメン', dinner='カレー'):\n",
    "    print(f'朝は{breakfast}を食べました')\n",
    "    print(f'昼は{lunch}を食べました')\n",
    "    print(f'晩は{dinner}を食べました')\n",
    "\n",
    "eat('納豆ごはん','ラーメン', 'カレーうどん')\n",
    "eat(breakfast='納豆ごはん',dinner='カレーうどん')\n",
    "eat(dinner='カレーうどん',breakfast='納豆ごはん')\n",
    "eat('納豆ごはん',dinner='カレーうどん')"
   ]
  },
  {
   "cell_type": "code",
   "execution_count": 30,
   "id": "c7e3c147-eb53-4399-b7b1-7c6600f898d4",
   "metadata": {},
   "outputs": [
    {
     "name": "stdout",
     "output_type": "stream",
     "text": [
      "朝はトーストを食べました\n",
      "昼はパスタを食べました\n",
      "晩はカレーを食べました\n",
      "おやつにアイスを食べました\n",
      "おやつにチョコを食べました\n",
      "おやつにパフェを食べました\n"
     ]
    }
   ],
   "source": [
    "def eat(breakfast,lunch,dinner='カレー',desserts=()):\n",
    "    print(f'朝は{breakfast}を食べました')\n",
    "    print(f'昼は{lunch}を食べました')\n",
    "    print(f'晩は{dinner}を食べました')\n",
    "    for d in desserts:\n",
    "        print(f'おやつに{d}を食べました')\n",
    "        \n",
    "eat('トースト', 'パスタ', 'カレー', ('アイス','チョコ','パフェ'))"
   ]
  },
  {
   "cell_type": "code",
   "execution_count": 32,
   "id": "19982604-29a7-45fb-b265-b43dcd4b5928",
   "metadata": {},
   "outputs": [
    {
     "name": "stdout",
     "output_type": "stream",
     "text": [
      "朝はトーストを食べました\n",
      "昼はパスタを食べました\n",
      "晩はカレーを食べました\n",
      "おやつにアイスを食べました\n",
      "おやつにチョコを食べました\n",
      "おやつにカレーを食べました\n"
     ]
    }
   ],
   "source": [
    "def eat(breakfast,lunch,dinner='カレー',*desserts):\n",
    "    print(f'朝は{breakfast}を食べました')\n",
    "    print(f'昼は{lunch}を食べました')\n",
    "    print(f'晩は{dinner}を食べました')\n",
    "    for d in desserts:\n",
    "        print(f'おやつに{d}を食べました')\n",
    "\n",
    "eat('トースト','パスタ','カレー','アイス','チョコ','カレー')"
   ]
  },
  {
   "cell_type": "code",
   "execution_count": 33,
   "id": "ecba9a8b-581a-49e2-a28c-6a0bad0ef103",
   "metadata": {},
   "outputs": [
    {
     "name": "stdout",
     "output_type": "stream",
     "text": [
      "朝食に納豆を食べました\n",
      "遅めの昼食にパスタを食べました\n",
      "夕方のおやつにカレーパンを食べました\n"
     ]
    }
   ],
   "source": [
    "def eat(**kwargs):\n",
    "    for key in kwargs:\n",
    "        print(f'{key}に{kwargs[key]}を食べました')\n",
    "\n",
    "eat(朝食='納豆', 遅めの昼食='パスタ', 夕方のおやつ='カレーパン')"
   ]
  },
  {
   "cell_type": "code",
   "execution_count": 1,
   "id": "a78998ff-e32a-4672-adaa-222601a942a6",
   "metadata": {},
   "outputs": [
    {
     "name": "stdout",
     "output_type": "stream",
     "text": [
      "こんにちは松田さん\n"
     ]
    }
   ],
   "source": [
    "name = '松田'\n",
    "def hello():\n",
    "    print('こんにちは' + name + 'さん')\n",
    "\n",
    "hello()"
   ]
  },
  {
   "cell_type": "code",
   "execution_count": 4,
   "id": "e17d1464-d888-4dcd-91aa-6836efa738ff",
   "metadata": {},
   "outputs": [],
   "source": [
    "name = '松田'\n",
    "def change_name():\n",
    "    name = '浅木'\n",
    "\n",
    "def hello():\n",
    "    print('こんにちは' + name + 'さん')  "
   ]
  },
  {
   "cell_type": "code",
   "execution_count": 5,
   "id": "b7ef123d-6510-4486-8cb4-7571b1152d4f",
   "metadata": {},
   "outputs": [
    {
     "name": "stdout",
     "output_type": "stream",
     "text": [
      "こんにちは松田さん\n"
     ]
    }
   ],
   "source": [
    "change_name()\n",
    "hello()"
   ]
  },
  {
   "cell_type": "code",
   "execution_count": 8,
   "id": "bfdd5196-7722-4836-95b9-55769b59308b",
   "metadata": {},
   "outputs": [
    {
     "name": "stdout",
     "output_type": "stream",
     "text": [
      "こんにちは浅木さん\n"
     ]
    }
   ],
   "source": [
    "name = '松田'\n",
    "def change_name():\n",
    "    global name\n",
    "    name = '浅木'\n",
    "\n",
    "def hello():\n",
    "    print('こんにちは' + name + 'さん')\n",
    "    \n",
    "change_name()\n",
    "hello()"
   ]
  },
  {
   "cell_type": "code",
   "execution_count": null,
   "id": "755e895b-62ec-431f-ab88-d63b833a18ba",
   "metadata": {},
   "outputs": [],
   "source": []
  }
 ],
 "metadata": {
  "kernelspec": {
   "display_name": "Python 3 (ipykernel)",
   "language": "python",
   "name": "python3"
  },
  "language_info": {
   "codemirror_mode": {
    "name": "ipython",
    "version": 3
   },
   "file_extension": ".py",
   "mimetype": "text/x-python",
   "name": "python",
   "nbconvert_exporter": "python",
   "pygments_lexer": "ipython3",
   "version": "3.9.7"
  }
 },
 "nbformat": 4,
 "nbformat_minor": 5
}
