{
 "cells": [
  {
   "cell_type": "code",
   "execution_count": 1,
   "id": "4d91ddfc-4514-4faa-a6b5-2006e8b2f053",
   "metadata": {},
   "outputs": [],
   "source": [
    "def hello():\n",
    "    print('こんにちは、工藤です')"
   ]
  },
  {
   "cell_type": "code",
   "execution_count": 2,
   "id": "c36482e4-ecce-4694-a362-f5499771cce4",
   "metadata": {},
   "outputs": [
    {
     "name": "stdout",
     "output_type": "stream",
     "text": [
      "こんにちは、工藤です\n"
     ]
    }
   ],
   "source": [
    "hello()"
   ]
  },
  {
   "cell_type": "code",
   "execution_count": 4,
   "id": "83409526-20cf-412d-b7eb-35ca6775923f",
   "metadata": {},
   "outputs": [],
   "source": [
    "def hello(name):\n",
    "    print(f'こんにちは。{name}です')"
   ]
  },
  {
   "cell_type": "code",
   "execution_count": 5,
   "id": "7bee2dad-6c82-46f8-81e4-1bd6b680ca29",
   "metadata": {},
   "outputs": [
    {
     "name": "stdout",
     "output_type": "stream",
     "text": [
      "こんにちは。工藤です\n"
     ]
    }
   ],
   "source": [
    "hello('工藤')"
   ]
  },
  {
   "cell_type": "code",
   "execution_count": 6,
   "id": "aa781a03-b779-40f2-83cd-cc34b8b3cb68",
   "metadata": {},
   "outputs": [],
   "source": [
    "def profiel(name, age, hobby):\n",
    "    print(f'私の名前は{name}です')\n",
    "    print(f'年齢は{age}歳です')\n",
    "    print(f'趣味は{hobby}です')"
   ]
  },
  {
   "cell_type": "code",
   "execution_count": 7,
   "id": "034d8550-4b35-45cc-845c-98623be029f4",
   "metadata": {},
   "outputs": [
    {
     "name": "stdout",
     "output_type": "stream",
     "text": [
      "私の名前は浅木です\n",
      "年齢は24歳です\n",
      "趣味はカフェ巡りです\n"
     ]
    }
   ],
   "source": [
    "profiel('浅木','24','カフェ巡り')"
   ]
  },
  {
   "cell_type": "code",
   "execution_count": null,
   "id": "a4f54b25-db6a-4773-b242-ae6a62e88144",
   "metadata": {},
   "outputs": [],
   "source": []
  }
 ],
 "metadata": {
  "kernelspec": {
   "display_name": "Python 3 (ipykernel)",
   "language": "python",
   "name": "python3"
  },
  "language_info": {
   "codemirror_mode": {
    "name": "ipython",
    "version": 3
   },
   "file_extension": ".py",
   "mimetype": "text/x-python",
   "name": "python",
   "nbconvert_exporter": "python",
   "pygments_lexer": "ipython3",
   "version": "3.9.7"
  }
 },
 "nbformat": 4,
 "nbformat_minor": 5
}
