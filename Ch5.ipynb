{
 "cells": [
  {
   "cell_type": "code",
   "execution_count": 2,
   "id": "a4f54b25-db6a-4773-b242-ae6a62e88144",
   "metadata": {},
   "outputs": [
    {
     "name": "stdout",
     "output_type": "stream",
     "text": [
      "浅木さんの試験結果を入力してください\n"
     ]
    },
    {
     "name": "stdin",
     "output_type": "stream",
     "text": [
      "ネットワークの得点>> 90\n",
      "データベースの得点>> 88\n",
      "セキュリティの得点>> 92\n"
     ]
    },
    {
     "name": "stdout",
     "output_type": "stream",
     "text": [
      "松田さんの試験結果を入力してください\n"
     ]
    },
    {
     "name": "stdin",
     "output_type": "stream",
     "text": [
      "ネットワークの得点>> 40\n",
      "データベースの得点>> 60\n",
      "セキュリティの得点>> 50\n"
     ]
    },
    {
     "name": "stdout",
     "output_type": "stream",
     "text": [
      "浅木さんの平均点は90.0です\n",
      "松田さんの平均点は50.0です\n"
     ]
    }
   ],
   "source": [
    "student_list = ['浅木', '松田']\n",
    "count = 0\n",
    "for student in student_list:\n",
    "    print(f'{student}さんの試験結果を入力してください')\n",
    "    network = int(input('ネットワークの得点>>'))\n",
    "    database = int(input('データベースの得点>>'))\n",
    "    security = int(input('セキュリティの得点>>'))\n",
    "    if student == '浅木':\n",
    "        asagi_scores = [network, database, security]\n",
    "        asagi_avg = sum(asagi_scores) / len(asagi_scores)\n",
    "    else:\n",
    "        matsuda_scores = [network, database, security]\n",
    "        matsuda_avg = sum(matsuda_scores) / len(matsuda_scores)\n",
    "print(f'浅木さんの平均点は{asagi_avg}です')\n",
    "print(f'松田さんの平均点は{matsuda_avg}です')"
   ]
  },
  {
   "cell_type": "code",
   "execution_count": 3,
   "id": "cc457e11-160e-46d3-a509-39655f6505d5",
   "metadata": {},
   "outputs": [],
   "source": [
    "def input_scores(name):\n",
    "    print(f'{name}さんの試験結果を入力してください')\n",
    "    network = int(input('ネットワークの得点?'))\n",
    "    database = int(input('データベースの得点?'))\n",
    "    security = int(input('セキュリティの得点?'))\n",
    "    scores = [network, database, security]\n",
    "\n",
    "def calc_avarage(scores):\n",
    "    avg = sum(scores) / len(scores)\n",
    "    print(f'平均点は{avg}です')"
   ]
  },
  {
   "cell_type": "code",
   "execution_count": 4,
   "id": "5b9e5820-a9aa-405e-b660-c521688c0860",
   "metadata": {},
   "outputs": [
    {
     "name": "stdout",
     "output_type": "stream",
     "text": [
      "浅木さんの試験結果を入力してください\n"
     ]
    },
    {
     "name": "stdin",
     "output_type": "stream",
     "text": [
      "ネットワークの得点? 92\n",
      "データベースの得点? 88\n",
      "セキュリティの得点? 90\n"
     ]
    },
    {
     "ename": "NameError",
     "evalue": "name 'calc_average' is not defined",
     "output_type": "error",
     "traceback": [
      "\u001b[0;31m---------------------------------------------------------------------------\u001b[0m",
      "\u001b[0;31mNameError\u001b[0m                                 Traceback (most recent call last)",
      "\u001b[0;32m/var/folders/31/y_s4x26s04xcxrpvp649hyr40000gn/T/ipykernel_1010/2140830600.py\u001b[0m in \u001b[0;36m<module>\u001b[0;34m\u001b[0m\n\u001b[1;32m      1\u001b[0m \u001b[0minput_scores\u001b[0m\u001b[0;34m(\u001b[0m\u001b[0;34m'浅木'\u001b[0m\u001b[0;34m)\u001b[0m\u001b[0;34m\u001b[0m\u001b[0;34m\u001b[0m\u001b[0m\n\u001b[0;32m----> 2\u001b[0;31m \u001b[0mcalc_average\u001b[0m\u001b[0;34m(\u001b[0m\u001b[0mscores\u001b[0m\u001b[0;34m)\u001b[0m\u001b[0;34m\u001b[0m\u001b[0;34m\u001b[0m\u001b[0m\n\u001b[0m",
      "\u001b[0;31mNameError\u001b[0m: name 'calc_average' is not defined"
     ]
    }
   ],
   "source": [
    "input_scores('浅木')\n",
    "calc_average(scores)"
   ]
  },
  {
   "cell_type": "code",
   "execution_count": 1,
   "id": "4d91ddfc-4514-4faa-a6b5-2006e8b2f053",
   "metadata": {},
   "outputs": [],
   "source": [
    "def hello():\n",
    "    print('こんにちは、工藤です')"
   ]
  },
  {
   "cell_type": "code",
   "execution_count": 2,
   "id": "c36482e4-ecce-4694-a362-f5499771cce4",
   "metadata": {},
   "outputs": [
    {
     "name": "stdout",
     "output_type": "stream",
     "text": [
      "こんにちは、工藤です\n"
     ]
    }
   ],
   "source": [
    "hello()"
   ]
  },
  {
   "cell_type": "code",
   "execution_count": 4,
   "id": "83409526-20cf-412d-b7eb-35ca6775923f",
   "metadata": {},
   "outputs": [],
   "source": [
    "def hello(name):\n",
    "    print(f'こんにちは。{name}です')"
   ]
  },
  {
   "cell_type": "code",
   "execution_count": 5,
   "id": "7bee2dad-6c82-46f8-81e4-1bd6b680ca29",
   "metadata": {},
   "outputs": [
    {
     "name": "stdout",
     "output_type": "stream",
     "text": [
      "こんにちは。工藤です\n"
     ]
    }
   ],
   "source": [
    "hello('工藤')"
   ]
  },
  {
   "cell_type": "code",
   "execution_count": 6,
   "id": "aa781a03-b779-40f2-83cd-cc34b8b3cb68",
   "metadata": {},
   "outputs": [],
   "source": [
    "def profiel(name, age, hobby):\n",
    "    print(f'私の名前は{name}です')\n",
    "    print(f'年齢は{age}歳です')\n",
    "    print(f'趣味は{hobby}です')"
   ]
  },
  {
   "cell_type": "code",
   "execution_count": 7,
   "id": "034d8550-4b35-45cc-845c-98623be029f4",
   "metadata": {},
   "outputs": [
    {
     "name": "stdout",
     "output_type": "stream",
     "text": [
      "私の名前は浅木です\n",
      "年齢は24歳です\n",
      "趣味はカフェ巡りです\n"
     ]
    }
   ],
   "source": [
    "profiel('浅木','24','カフェ巡り')"
   ]
  },
  {
   "cell_type": "code",
   "execution_count": 5,
   "id": "5403fad9-df6e-43d6-a7fd-f85f64119883",
   "metadata": {},
   "outputs": [],
   "source": [
    "def plus(x, y):\n",
    "    answer = x + y\n",
    "    return answer"
   ]
  },
  {
   "cell_type": "code",
   "execution_count": 6,
   "id": "6626e91f-d8a0-44d2-8983-96d240020b0f",
   "metadata": {},
   "outputs": [
    {
     "name": "stdout",
     "output_type": "stream",
     "text": [
      "足し算の答えは150です\n"
     ]
    }
   ],
   "source": [
    "answer = plus(100, 50)\n",
    "print('足し算の答えは{}です'.format(answer))"
   ]
  },
  {
   "cell_type": "code",
   "execution_count": 15,
   "id": "aeab93db-e7d7-4b53-99ba-4614c2b7bca7",
   "metadata": {},
   "outputs": [],
   "source": [
    "def input_scores(name):\n",
    "    print(f'{name}さんの試験結果を入力してください')\n",
    "    network = int(input('ネットワークの得点?>>'))\n",
    "    database = int(input('データベースの得点?>>'))\n",
    "    security = int(input('セキュリティの得点?>>'))\n",
    "    scores = [network, database, security]\n",
    "    return scores\n",
    "\n",
    "def calc_average(scores):\n",
    "    avg = sum(scores) / len(scores)\n",
    "    return avg\n",
    "\n",
    "def output_result(name, avg):\n",
    "    print(f'{name}さんの平均点は{avg}です')"
   ]
  },
  {
   "cell_type": "code",
   "execution_count": 16,
   "id": "6af2e0cf-455b-4736-8b5f-bf589d17a575",
   "metadata": {},
   "outputs": [
    {
     "name": "stdout",
     "output_type": "stream",
     "text": [
      "浅木さんの試験結果を入力してください\n"
     ]
    },
    {
     "name": "stdin",
     "output_type": "stream",
     "text": [
      "ネットワークの得点?>> 90\n",
      "データベースの得点?>> 88\n",
      "セキュリティの得点?>> 92\n"
     ]
    },
    {
     "name": "stdout",
     "output_type": "stream",
     "text": [
      "松田さんの試験結果を入力してください\n"
     ]
    },
    {
     "name": "stdin",
     "output_type": "stream",
     "text": [
      "ネットワークの得点?>> 60\n",
      "データベースの得点?>> 40\n",
      "セキュリティの得点?>> 50\n"
     ]
    },
    {
     "name": "stdout",
     "output_type": "stream",
     "text": [
      "浅木さんの平均点は90.0です\n",
      "松田さんの平均点は50.0です\n"
     ]
    }
   ],
   "source": [
    "asagi_scores = input_scores('浅木')\n",
    "matsuda_scores = input_scores('松田')\n",
    "asagi_avg = calc_average(asagi_scores)\n",
    "matsuda_avg = calc_average(matsuda_scores)\n",
    "output_result('浅木', asagi_avg)\n",
    "output_result('松田', matsuda_avg)"
   ]
  },
  {
   "cell_type": "code",
   "execution_count": null,
   "id": "e639ca7e-8db0-4da0-804f-e026ea6c8b18",
   "metadata": {},
   "outputs": [],
   "source": []
  }
 ],
 "metadata": {
  "kernelspec": {
   "display_name": "Python 3 (ipykernel)",
   "language": "python",
   "name": "python3"
  },
  "language_info": {
   "codemirror_mode": {
    "name": "ipython",
    "version": 3
   },
   "file_extension": ".py",
   "mimetype": "text/x-python",
   "name": "python",
   "nbconvert_exporter": "python",
   "pygments_lexer": "ipython3",
   "version": "3.9.7"
  }
 },
 "nbformat": 4,
 "nbformat_minor": 5
}
