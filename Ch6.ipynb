{
 "cells": [
  {
   "cell_type": "code",
   "execution_count": 1,
   "id": "1fd8f300-104b-418e-b1f7-79c7fb1e974b",
   "metadata": {},
   "outputs": [
    {
     "name": "stdin",
     "output_type": "stream",
     "text": [
      "名前と血液型をカンマで区切って1行で入力>> すずき,a\n"
     ]
    },
    {
     "name": "stdout",
     "output_type": "stream",
     "text": [
      "すずきさんはA型なので大吉です\n"
     ]
    }
   ],
   "source": [
    "userinfo = input('名前と血液型をカンマで区切って1行で入力>>')\n",
    "[name, blood] = userinfo.split(',')\n",
    "blood = blood.upper().strip()\n",
    "print(f'{name}さんは{blood}型なので大吉です')"
   ]
  },
  {
   "cell_type": "code",
   "execution_count": 4,
   "id": "a78b13f4-1ab5-4644-b948-bb119458dabb",
   "metadata": {},
   "outputs": [
    {
     "name": "stdout",
     "output_type": "stream",
     "text": [
      "<class 'function'>\n",
      "9\n"
     ]
    }
   ],
   "source": [
    "def add(x,y):\n",
    "    return x + y\n",
    "\n",
    "print(type(add))\n",
    "newadd = add\n",
    "print(newadd(4,5))"
   ]
  },
  {
   "cell_type": "code",
   "execution_count": 5,
   "id": "f71e96ff-ede6-4120-be1d-cfd2fd036f6c",
   "metadata": {},
   "outputs": [
    {
     "name": "stdout",
     "output_type": "stream",
     "text": [
      "すっきりファンタジー12\n",
      "すずきは3時間寝た!\n",
      "すずきさんのHPは現在103です\n"
     ]
    }
   ],
   "source": [
    "class Hero:\n",
    "    name = '松田'\n",
    "    hp = 100\n",
    "    def sleep(self, hours):\n",
    "        print(f'{name}は{hours}時間寝た!')\n",
    "        self.hp += hours\n",
    "    \n",
    "print('すっきりファンタジー12')\n",
    "h = Hero()\n",
    "h.sleep(3)\n",
    "print(f'{name}さんのHPは現在{h.hp}です')"
   ]
  },
  {
   "cell_type": "code",
   "execution_count": 7,
   "id": "86a619ad-897b-4838-8b70-fb0d2d5d3883",
   "metadata": {},
   "outputs": [
    {
     "name": "stdout",
     "output_type": "stream",
     "text": [
      "scores1のidentity:140225431468480\n",
      "scores2のidentity:140225431467200\n",
      "scores1とscores2は同じ内容です\n",
      "scores1とscores2は違う存在です\n"
     ]
    }
   ],
   "source": [
    "scores1 = [80, 40, 50]\n",
    "scores2 = [80, 40, 50]\n",
    "print(f'scores1のidentity:{id(scores1)}')\n",
    "print(f'scores2のidentity:{id(scores2)}')\n",
    "if scores1 == scores2:\n",
    "    print('scores1とscores2は同じ内容です')\n",
    "else:\n",
    "    print('scores1とscores2は違う内容です')\n",
    "\n",
    "if id(scores1) == id(scores2):\n",
    "    print('scores1とscores2は同じ存在です')\n",
    "else:\n",
    "    print('scores1とscores2は違う存在です')"
   ]
  },
  {
   "cell_type": "code",
   "execution_count": 13,
   "id": "1b32c4fc-3328-4b68-a563-e03767e19a1e",
   "metadata": {},
   "outputs": [
    {
     "name": "stdout",
     "output_type": "stream",
     "text": [
      "scores1の先頭要素は80\n",
      "scores2の先頭要素は80\n",
      "変数scores2の中身を変数scores1に代入します\n",
      "scores1の先頭要素を90に書き換えます\n",
      "90を代入したscores1の先頭要素は90\n",
      "90を代入していないscores2の先頭要素は90\n"
     ]
    }
   ],
   "source": [
    "scores1 = [80, 40, 50]\n",
    "scores2 = [80, 40, 50]\n",
    "print(f'scores1の先頭要素は{scores1[0]}')\n",
    "print(f'scores2の先頭要素は{scores2[0]}')\n",
    "\n",
    "print('変数scores2の中身を変数scores1に代入します')\n",
    "scores1 = scores2\n",
    "\n",
    "print('scores1の先頭要素を90に書き換えます')\n",
    "scores1[0] = 90\n",
    "\n",
    "print(f'90を代入したscores1の先頭要素は{scores1[0]}')\n",
    "print(f'90を代入していないscores2の先頭要素は{scores2[0]}')"
   ]
  },
  {
   "cell_type": "code",
   "execution_count": 14,
   "id": "0874939a-608f-41ff-b3c3-dc967ed312dc",
   "metadata": {},
   "outputs": [
    {
     "name": "stdout",
     "output_type": "stream",
     "text": [
      "さん付け後:松田さん\n",
      "さん付け前:松田さん\n"
     ]
    }
   ],
   "source": [
    "def add_suffix(names):\n",
    "    for i in range(len(names)):\n",
    "        names[i] = names[i] + 'さん'\n",
    "    return names\n",
    "\n",
    "before_names = ['松田', '浅木', '工藤']\n",
    "after_names = add_suffix(before_names)\n",
    "print('さん付け後:' + after_names[0])\n",
    "print('さん付け前:' + before_names[0])"
   ]
  },
  {
   "cell_type": "code",
   "execution_count": 16,
   "id": "70ceec2a-5fa7-440b-9ac9-6be7f53c8b20",
   "metadata": {},
   "outputs": [
    {
     "name": "stdout",
     "output_type": "stream",
     "text": [
      "さん付け後:松田さん\n",
      "さん付け前:松田\n"
     ]
    }
   ],
   "source": [
    "def add_suffix(names):\n",
    "    for i in range(len(names)):\n",
    "        names[i] = names[i] + 'さん'\n",
    "    return names\n",
    "\n",
    "before_names = ['松田', '浅木', '工藤']\n",
    "copied_names = list()\n",
    "for n in before_names:\n",
    "    copied_names.append(n)\n",
    "\n",
    "after_names = add_suffix(copied_names)\n",
    "print('さん付け後:' + after_names[0])\n",
    "print('さん付け前:' + before_names[0])"
   ]
  },
  {
   "cell_type": "code",
   "execution_count": 4,
   "id": "ddafae7f-ccde-402a-a03e-299d4653e354",
   "metadata": {},
   "outputs": [
    {
     "name": "stdout",
     "output_type": "stream",
     "text": [
      "さん付け後:松田さん\n",
      "さん付け前「:松田\n"
     ]
    }
   ],
   "source": [
    "def add_suffix(name):\n",
    "    name = name + 'さん'\n",
    "    return name\n",
    "\n",
    "before_name = '松田'\n",
    "after_name = add_suffix(before_name)\n",
    "print('さん付け後:' + after_name)\n",
    "print('さん付け前「:' + before_name)"
   ]
  },
  {
   "cell_type": "code",
   "execution_count": 2,
   "id": "ab74e839-553d-4339-b781-7c6e9407d62c",
   "metadata": {},
   "outputs": [
    {
     "name": "stdout",
     "output_type": "stream",
     "text": [
      "変更前のlistのid:140196388673024\n",
      "変更後のlistのid:140196388673024\n",
      "変更前のstrのid:140196388902736\n",
      "変更後のstrのid:140196388901104\n"
     ]
    }
   ],
   "source": [
    "names = list()\n",
    "print(f'変更前のlistのid:{id(names)}')\n",
    "names.append('松田')\n",
    "print(f'変更後のlistのid:{id(names)}')\n",
    "\n",
    "name = '松田'\n",
    "print(f'変更前のstrのid:{id(name)}')\n",
    "name = 'スーパー' + name\n",
    "print(f'変更後のstrのid:{id(name)}')"
   ]
  },
  {
   "cell_type": "code",
   "execution_count": 4,
   "id": "b838e5a6-5393-49cb-880c-f9e3db615301",
   "metadata": {},
   "outputs": [
    {
     "name": "stdin",
     "output_type": "stream",
     "text": [
      " a\n"
     ]
    },
    {
     "name": "stdout",
     "output_type": "stream",
     "text": [
      "False\n",
      "False\n",
      "xyz\n"
     ]
    }
   ],
   "source": [
    "x = ['ABC']\n",
    "y = [input()]\n",
    "print(x[0] == y[0])\n",
    "print(id(x[0]) == id(y[0]))\n",
    "y = x\n",
    "y[0] = 'xyz'\n",
    "print(x[0])"
   ]
  },
  {
   "cell_type": "code",
   "execution_count": 35,
   "id": "e4cfa7a5-b237-421b-891e-f167fd0954b9",
   "metadata": {},
   "outputs": [
    {
     "name": "stdin",
     "output_type": "stream",
     "text": [
      "名前を入力してください>> 松田\n",
      "年齢を入力してください>> 26\n"
     ]
    },
    {
     "name": "stdout",
     "output_type": "stream",
     "text": [
      "ようこそ松田さん\n",
      "あなたは来年27歳だから大吉です\n",
      "27歳の松田さん、またプレイしてくださいね\n"
     ]
    }
   ],
   "source": [
    "def welcome(user):\n",
    "    print(f'ようこそ{user[\"name\"]}さん')\n",
    "    user['age'] = user['age'] + 1\n",
    "    print(f'あなたは来年{user[\"age\"]}歳だから大吉です')\n",
    "\n",
    "username = input('名前を入力してください>>')\n",
    "userage = int(input('年齢を入力してください>>'))\n",
    "user = {'name': username, 'age': userage}\n",
    "# copied_user = user.copy()\n",
    "welcome(user)\n",
    "# welcmoe(copied_user)\n",
    "print(f'{user[\"age\"]}歳の{user[\"name\"]}さん、またプレイしてくださいね')"
   ]
  }
 ],
 "metadata": {
  "kernelspec": {
   "display_name": "Python 3 (ipykernel)",
   "language": "python",
   "name": "python3"
  },
  "language_info": {
   "codemirror_mode": {
    "name": "ipython",
    "version": 3
   },
   "file_extension": ".py",
   "mimetype": "text/x-python",
   "name": "python",
   "nbconvert_exporter": "python",
   "pygments_lexer": "ipython3",
   "version": "3.9.7"
  }
 },
 "nbformat": 4,
 "nbformat_minor": 5
}
