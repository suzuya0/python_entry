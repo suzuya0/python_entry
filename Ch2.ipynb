{
 "cells": [
  {
   "cell_type": "code",
   "execution_count": 1,
   "id": "d6b11f88-683c-47a2-a7e3-3de1f68bc72f",
   "metadata": {},
   "outputs": [
    {
     "name": "stdout",
     "output_type": "stream",
     "text": [
      "合計点:273\n",
      "平均点:91.0\n"
     ]
    }
   ],
   "source": [
    "network = 88\n",
    "database = 95\n",
    "security = 90\n",
    "total = network + database + security\n",
    "avg = total / 3\n",
    "print(\"合計点:{}\".format(total))\n",
    "print(\"平均点:{}\".format(avg))"
   ]
  },
  {
   "cell_type": "code",
   "execution_count": 2,
   "id": "590c0485-111c-48d6-9d2d-f422912e815c",
   "metadata": {},
   "outputs": [
    {
     "name": "stdout",
     "output_type": "stream",
     "text": [
      "['工藤', '松田', '浅木']\n"
     ]
    }
   ],
   "source": [
    "members = [\"工藤\", \"松田\", \"浅木\"]\n",
    "print(members)"
   ]
  },
  {
   "cell_type": "code",
   "execution_count": 3,
   "id": "b16953d8-6d53-425e-bf20-f532b836d9eb",
   "metadata": {},
   "outputs": [
    {
     "name": "stdout",
     "output_type": "stream",
     "text": [
      "工藤\n"
     ]
    }
   ],
   "source": [
    "members = [\"工藤\", \"松田\", \"浅木\"]\n",
    "print(members[0])"
   ]
  },
  {
   "cell_type": "code",
   "execution_count": 5,
   "id": "63a5976f-a852-4a52-8192-85ccfed209d8",
   "metadata": {},
   "outputs": [
    {
     "name": "stdout",
     "output_type": "stream",
     "text": [
      "合計273点\n"
     ]
    }
   ],
   "source": [
    "scores = [88, 95, 90]\n",
    "total = scores[0] + scores[1] + scores[2]\n",
    "print(\"合計{}点\".format(total))"
   ]
  },
  {
   "cell_type": "code",
   "execution_count": 6,
   "id": "e9277e16-6384-4327-9ecc-d774257803ae",
   "metadata": {},
   "outputs": [
    {
     "name": "stdout",
     "output_type": "stream",
     "text": [
      "合計273点\n"
     ]
    }
   ],
   "source": [
    "scores = [88, 95, 90]\n",
    "total = sum(scores)\n",
    "print(\"合計{}点\".format(total))"
   ]
  },
  {
   "cell_type": "code",
   "execution_count": 7,
   "id": "97d3d7cd-3685-4780-b043-7f62195cf0f9",
   "metadata": {},
   "outputs": [
    {
     "name": "stdout",
     "output_type": "stream",
     "text": [
      "合計273点、平均91.0点\n"
     ]
    }
   ],
   "source": [
    "scores = [88, 95, 90]\n",
    "total = sum(scores)\n",
    "avg = total / len(scores)\n",
    "print(\"合計{}点、平均{}点\".format(total, avg))"
   ]
  },
  {
   "cell_type": "code",
   "execution_count": 8,
   "id": "453dc1e5-6e1f-4da4-b969-8bf1dbebf899",
   "metadata": {},
   "outputs": [
    {
     "name": "stdout",
     "output_type": "stream",
     "text": [
      "['工藤', '松田', '浅木', '菅原', '湊', '朝香']\n"
     ]
    }
   ],
   "source": [
    "members = [\"工藤\", \"松田\", \"浅木\"]\n",
    "members.append(\"菅原\")\n",
    "members.append(\"湊\")\n",
    "members.append(\"朝香\")\n",
    "print(members)"
   ]
  },
  {
   "cell_type": "code",
   "execution_count": 12,
   "id": "5c2b98ca-05be-4e69-9358-1e584973279a",
   "metadata": {},
   "outputs": [
    {
     "name": "stdout",
     "output_type": "stream",
     "text": [
      "['工藤', '浅木']\n"
     ]
    }
   ],
   "source": [
    "members = [\"工藤\", \"松田\", \"浅木\"]\n",
    "members.remove(\"松田\")\n",
    "print(members)"
   ]
  },
  {
   "cell_type": "code",
   "execution_count": 13,
   "id": "689c2bb7-5952-4615-9a11-a325a655eb2e",
   "metadata": {},
   "outputs": [
    {
     "name": "stdout",
     "output_type": "stream",
     "text": [
      "['菅原', '松田', '浅木']\n"
     ]
    }
   ],
   "source": [
    "members = [\"工藤\", \"松田\", \"浅木\"]\n",
    "members[0] = \"菅原\"\n",
    "print(members)"
   ]
  },
  {
   "cell_type": "code",
   "execution_count": 14,
   "id": "f70b96f5-4a15-4517-8204-95ea3d67bdfd",
   "metadata": {},
   "outputs": [
    {
     "name": "stdout",
     "output_type": "stream",
     "text": [
      "[20, 30]\n",
      "[30, 40, 50]\n",
      "[10, 20, 30]\n"
     ]
    }
   ],
   "source": [
    "a = [10, 20, 30, 40, 50]\n",
    "print(a[1:3])\n",
    "print(a[2:])\n",
    "print(a[:3])"
   ]
  },
  {
   "cell_type": "code",
   "execution_count": 15,
   "id": "7147a2ff-a16d-406a-8f91-27a696950a9c",
   "metadata": {},
   "outputs": [
    {
     "name": "stdout",
     "output_type": "stream",
     "text": [
      "50\n",
      "40\n"
     ]
    }
   ],
   "source": [
    "a = [10, 20, 30, 40, 50]\n",
    "print(a[-1])\n",
    "print(a[-2])"
   ]
  },
  {
   "cell_type": "code",
   "execution_count": 1,
   "id": "21b6ff26-051b-4209-b428-089c33734a5c",
   "metadata": {},
   "outputs": [
    {
     "name": "stdout",
     "output_type": "stream",
     "text": [
      "{'network': 60, 'database': 80, 'security': 50}\n"
     ]
    }
   ],
   "source": [
    "scores = {\"network\": 60, \"database\": 80, \"security\": 50}\n",
    "print(scores)"
   ]
  },
  {
   "cell_type": "code",
   "execution_count": 2,
   "id": "9bae6afd-ba0d-469d-8315-b6ecfa2a6ed3",
   "metadata": {},
   "outputs": [
    {
     "name": "stdout",
     "output_type": "stream",
     "text": [
      "80\n"
     ]
    }
   ],
   "source": [
    "scores = {\"network\": 60, \"database\": 80, \"security\": 50}\n",
    "print(scores[\"database\"])"
   ]
  },
  {
   "cell_type": "code",
   "execution_count": 4,
   "id": "ff7872b8-710d-4a2c-83df-9d2f825d350c",
   "metadata": {},
   "outputs": [
    {
     "name": "stdout",
     "output_type": "stream",
     "text": [
      "{'network': 60, 'database': 80, 'security': 55, 'programing': 65}\n"
     ]
    }
   ],
   "source": [
    "scores = {\"network\": 60, \"database\": 80, \"security\": 50}\n",
    "scores[\"programing\"] = 65\n",
    "scores[\"security\"] = 55\n",
    "print(scores)"
   ]
  },
  {
   "cell_type": "code",
   "execution_count": 6,
   "id": "968b65a6-7b44-4584-80ab-71fe3e596ea2",
   "metadata": {},
   "outputs": [
    {
     "name": "stdout",
     "output_type": "stream",
     "text": [
      "{'network': 60, 'database': 80}\n"
     ]
    }
   ],
   "source": [
    "scores = {\"network\": 60, \"database\": 80, \"security\": 50}\n",
    "del scores[\"security\"]\n",
    "print(scores)"
   ]
  },
  {
   "cell_type": "code",
   "execution_count": 9,
   "id": "f3c5788a-7b78-43cb-acc4-a0f7188c3d21",
   "metadata": {},
   "outputs": [
    {
     "name": "stdout",
     "output_type": "stream",
     "text": [
      "190\n"
     ]
    }
   ],
   "source": [
    "scores = {\"network\": 60, \"database\": 80, \"security\": 50}\n",
    "total = sum(scores.values())\n",
    "print(total)"
   ]
  },
  {
   "cell_type": "code",
   "execution_count": 10,
   "id": "aca22526-1584-4d1e-a39b-6e83e9db2455",
   "metadata": {},
   "outputs": [
    {
     "name": "stdout",
     "output_type": "stream",
     "text": [
      "(70, 80, 55)\n",
      "70\n",
      "要素数は3\n",
      "合計は205\n"
     ]
    }
   ],
   "source": [
    "scores = (70, 80, 55)\n",
    "print(scores)\n",
    "print(scores[0])\n",
    "print('要素数は{}'.format(len(scores)))\n",
    "print('合計は{}'.format(sum(scores)))"
   ]
  },
  {
   "cell_type": "code",
   "execution_count": 11,
   "id": "dcd63d23-5370-4175-90f9-2249b585cef1",
   "metadata": {},
   "outputs": [
    {
     "ename": "TypeError",
     "evalue": "'tuple' object does not support item assignment",
     "output_type": "error",
     "traceback": [
      "\u001b[0;31m---------------------------------------------------------------------------\u001b[0m",
      "\u001b[0;31mTypeError\u001b[0m                                 Traceback (most recent call last)",
      "\u001b[0;32m/var/folders/31/y_s4x26s04xcxrpvp649hyr40000gn/T/ipykernel_85672/1101898617.py\u001b[0m in \u001b[0;36m<module>\u001b[0;34m\u001b[0m\n\u001b[1;32m      1\u001b[0m \u001b[0mscores\u001b[0m \u001b[0;34m=\u001b[0m \u001b[0;34m(\u001b[0m\u001b[0;36m70\u001b[0m\u001b[0;34m,\u001b[0m \u001b[0;36m80\u001b[0m\u001b[0;34m,\u001b[0m \u001b[0;36m55\u001b[0m\u001b[0;34m)\u001b[0m\u001b[0;34m\u001b[0m\u001b[0;34m\u001b[0m\u001b[0m\n\u001b[0;32m----> 2\u001b[0;31m \u001b[0mscores\u001b[0m\u001b[0;34m[\u001b[0m\u001b[0;36m0\u001b[0m\u001b[0;34m]\u001b[0m \u001b[0;34m=\u001b[0m \u001b[0;36m80\u001b[0m\u001b[0;34m\u001b[0m\u001b[0;34m\u001b[0m\u001b[0m\n\u001b[0m",
      "\u001b[0;31mTypeError\u001b[0m: 'tuple' object does not support item assignment"
     ]
    }
   ],
   "source": [
    "scores = (70, 80, 55)\n",
    "scores[0] = 80"
   ]
  },
  {
   "cell_type": "code",
   "execution_count": 12,
   "id": "8ff97ddc-1f88-4b15-9fb1-998ed000926b",
   "metadata": {},
   "outputs": [],
   "source": [
    "members = ['松田']\n",
    "scores = {'network': 82}"
   ]
  },
  {
   "cell_type": "code",
   "execution_count": 13,
   "id": "ccc00ba2-7c65-4838-9873-9af97c672107",
   "metadata": {},
   "outputs": [
    {
     "name": "stdout",
     "output_type": "stream",
     "text": [
      "<class 'str'>\n"
     ]
    }
   ],
   "source": [
    "members = ('松田')\n",
    "print(type(members))"
   ]
  },
  {
   "cell_type": "code",
   "execution_count": 14,
   "id": "2e1e7a83-63a6-4eb8-98e8-4e379b0c8987",
   "metadata": {},
   "outputs": [
    {
     "name": "stdout",
     "output_type": "stream",
     "text": [
      "<class 'tuple'>\n"
     ]
    }
   ],
   "source": [
    "members = ('松田',)\n",
    "print(type(members))"
   ]
  },
  {
   "cell_type": "code",
   "execution_count": 15,
   "id": "22a8c058-58bd-4c36-98b6-383e3a38736a",
   "metadata": {},
   "outputs": [
    {
     "name": "stdout",
     "output_type": "stream",
     "text": [
      "{80, 70, 55}\n",
      "要素数は3\n",
      "要素数は205\n"
     ]
    }
   ],
   "source": [
    "scores = {70, 80, 55, 80}\n",
    "scores.add(80)\n",
    "print(scores)\n",
    "print('要素数は{}'.format(len(scores)))\n",
    "print('要素数は{}'.format(sum(scores)))"
   ]
  },
  {
   "cell_type": "code",
   "execution_count": 18,
   "id": "11b06082-6d21-488a-8dd3-4fb990758bee",
   "metadata": {},
   "outputs": [
    {
     "name": "stdout",
     "output_type": "stream",
     "text": [
      "('松田', '浅木', '工藤')\n",
      "['network', 'database', 'security']\n",
      "{80, 60}\n"
     ]
    }
   ],
   "source": [
    "scores = {'network': 60, 'database': 80, 'security': 60}\n",
    "members = ['松田', '浅木', '工藤']\n",
    "print(tuple(members))\n",
    "print(list(scores))\n",
    "print(set(scores.values()))"
   ]
  },
  {
   "cell_type": "code",
   "execution_count": 25,
   "id": "24280bb4-8668-4e37-b5d3-3cd014370062",
   "metadata": {},
   "outputs": [
    {
     "name": "stdout",
     "output_type": "stream",
     "text": [
      "75\n"
     ]
    }
   ],
   "source": [
    "matsuda_scores = {'network': 60, 'database': 80, 'security': 50}\n",
    "asagi_scores = {'network': 80, 'database': 75, 'security': 92}\n",
    "members_score = {'松田': matsuda_scores, '浅木': asagi_scores}\n",
    "print(members_score['浅木']['database'])"
   ]
  },
  {
   "cell_type": "code",
   "execution_count": 26,
   "id": "499049d0-7121-4699-91d8-cde5c46b58df",
   "metadata": {},
   "outputs": [
    {
     "name": "stdout",
     "output_type": "stream",
     "text": [
      "{'松田': {'麻雀', 'SNS', '自転車'}, '浅木': {'食べ歩き', '麻雀', '数学'}}\n",
      "{'麻雀', 'SNS', '自転車'}\n",
      "{'食べ歩き', '麻雀', '数学'}\n"
     ]
    }
   ],
   "source": [
    "member_hobbies = {\n",
    "    '松田': {'SNS', '麻雀', '自転車'},\n",
    "    '浅木': {'麻雀', '食べ歩き', '数学', '数学', '数学'}\n",
    "}\n",
    "print(member_hobbies)\n",
    "print(member_hobbies['松田'])\n",
    "print(member_hobbies['浅木'])"
   ]
  },
  {
   "cell_type": "code",
   "execution_count": 27,
   "id": "a11c4fc8-53e6-4157-b91a-8013c4fb3702",
   "metadata": {},
   "outputs": [
    {
     "name": "stdout",
     "output_type": "stream",
     "text": [
      "[[1, 2, 3], [4, 5, 6]]\n",
      "[1, 2, 3]\n",
      "6\n"
     ]
    }
   ],
   "source": [
    "a = [1,2,3]\n",
    "b = [4,5,6]\n",
    "c = [a, b]\n",
    "print(c)\n",
    "print(c[0])\n",
    "print(c[1][2])"
   ]
  },
  {
   "cell_type": "code",
   "execution_count": 28,
   "id": "88dee054-30d1-4fe1-8ce5-5eb12e140b40",
   "metadata": {},
   "outputs": [
    {
     "name": "stdout",
     "output_type": "stream",
     "text": [
      "{'麻雀'}\n"
     ]
    }
   ],
   "source": [
    "members_hobbies = {\n",
    "    '松田': {'SNS', '麻雀', '自転車'},\n",
    "    '浅木': {'麻雀', '食べ歩き', '数学', '数学', '数学'}\n",
    "}\n",
    "common_hobbies = member_hobbies['松田']& member_hobbies['浅木']\n",
    "print(common_hobbies)"
   ]
  },
  {
   "cell_type": "code",
   "execution_count": 29,
   "id": "1ff1d6da-8c27-45b8-a617-68bf542834cc",
   "metadata": {},
   "outputs": [
    {
     "name": "stdout",
     "output_type": "stream",
     "text": [
      "{1, 2, 3, 4, 5}\n",
      "{2, 3, 4}\n",
      "{1}\n",
      "{5}\n",
      "{1, 5}\n"
     ]
    }
   ],
   "source": [
    "A = {1,2,3,4}\n",
    "B = {2,3,4,5}\n",
    "print(A | B)\n",
    "print(A & B)\n",
    "print(A - B)\n",
    "print(B - A)\n",
    "print(A ^ B)"
   ]
  },
  {
   "cell_type": "code",
   "execution_count": null,
   "id": "fb87f4d6-097b-4681-a584-48a3d54b299f",
   "metadata": {},
   "outputs": [],
   "source": []
  }
 ],
 "metadata": {
  "kernelspec": {
   "display_name": "Python 3 (ipykernel)",
   "language": "python",
   "name": "python3"
  },
  "language_info": {
   "codemirror_mode": {
    "name": "ipython",
    "version": 3
   },
   "file_extension": ".py",
   "mimetype": "text/x-python",
   "name": "python",
   "nbconvert_exporter": "python",
   "pygments_lexer": "ipython3",
   "version": "3.9.7"
  }
 },
 "nbformat": 4,
 "nbformat_minor": 5
}
