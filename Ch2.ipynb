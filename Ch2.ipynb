{
 "cells": [
  {
   "cell_type": "code",
   "execution_count": 1,
   "id": "d6b11f88-683c-47a2-a7e3-3de1f68bc72f",
   "metadata": {},
   "outputs": [
    {
     "name": "stdout",
     "output_type": "stream",
     "text": [
      "合計点:273\n",
      "平均点:91.0\n"
     ]
    }
   ],
   "source": [
    "network = 88\n",
    "database = 95\n",
    "security = 90\n",
    "total = network + database + security\n",
    "avg = total / 3\n",
    "print(\"合計点:{}\".format(total))\n",
    "print(\"平均点:{}\".format(avg))"
   ]
  },
  {
   "cell_type": "code",
   "execution_count": 2,
   "id": "590c0485-111c-48d6-9d2d-f422912e815c",
   "metadata": {},
   "outputs": [
    {
     "name": "stdout",
     "output_type": "stream",
     "text": [
      "['工藤', '松田', '浅木']\n"
     ]
    }
   ],
   "source": [
    "members = [\"工藤\", \"松田\", \"浅木\"]\n",
    "print(members)"
   ]
  },
  {
   "cell_type": "code",
   "execution_count": 3,
   "id": "b16953d8-6d53-425e-bf20-f532b836d9eb",
   "metadata": {},
   "outputs": [
    {
     "name": "stdout",
     "output_type": "stream",
     "text": [
      "工藤\n"
     ]
    }
   ],
   "source": [
    "members = [\"工藤\", \"松田\", \"浅木\"]\n",
    "print(members[0])"
   ]
  },
  {
   "cell_type": "code",
   "execution_count": 5,
   "id": "63a5976f-a852-4a52-8192-85ccfed209d8",
   "metadata": {},
   "outputs": [
    {
     "name": "stdout",
     "output_type": "stream",
     "text": [
      "合計273点\n"
     ]
    }
   ],
   "source": [
    "scores = [88, 95, 90]\n",
    "total = scores[0] + scores[1] + scores[2]\n",
    "print(\"合計{}点\".format(total))"
   ]
  },
  {
   "cell_type": "code",
   "execution_count": 6,
   "id": "e9277e16-6384-4327-9ecc-d774257803ae",
   "metadata": {},
   "outputs": [
    {
     "name": "stdout",
     "output_type": "stream",
     "text": [
      "合計273点\n"
     ]
    }
   ],
   "source": [
    "scores = [88, 95, 90]\n",
    "total = sum(scores)\n",
    "print(\"合計{}点\".format(total))"
   ]
  },
  {
   "cell_type": "code",
   "execution_count": 7,
   "id": "97d3d7cd-3685-4780-b043-7f62195cf0f9",
   "metadata": {},
   "outputs": [
    {
     "name": "stdout",
     "output_type": "stream",
     "text": [
      "合計273点、平均91.0点\n"
     ]
    }
   ],
   "source": [
    "scores = [88, 95, 90]\n",
    "total = sum(scores)\n",
    "avg = total / len(scores)\n",
    "print(\"合計{}点、平均{}点\".format(total, avg))"
   ]
  },
  {
   "cell_type": "code",
   "execution_count": 8,
   "id": "453dc1e5-6e1f-4da4-b969-8bf1dbebf899",
   "metadata": {},
   "outputs": [
    {
     "name": "stdout",
     "output_type": "stream",
     "text": [
      "['工藤', '松田', '浅木', '菅原', '湊', '朝香']\n"
     ]
    }
   ],
   "source": [
    "members = [\"工藤\", \"松田\", \"浅木\"]\n",
    "members.append(\"菅原\")\n",
    "members.append(\"湊\")\n",
    "members.append(\"朝香\")\n",
    "print(members)"
   ]
  },
  {
   "cell_type": "code",
   "execution_count": 12,
   "id": "5c2b98ca-05be-4e69-9358-1e584973279a",
   "metadata": {},
   "outputs": [
    {
     "name": "stdout",
     "output_type": "stream",
     "text": [
      "['工藤', '浅木']\n"
     ]
    }
   ],
   "source": [
    "members = [\"工藤\", \"松田\", \"浅木\"]\n",
    "members.remove(\"松田\")\n",
    "print(members)"
   ]
  },
  {
   "cell_type": "code",
   "execution_count": 13,
   "id": "689c2bb7-5952-4615-9a11-a325a655eb2e",
   "metadata": {},
   "outputs": [
    {
     "name": "stdout",
     "output_type": "stream",
     "text": [
      "['菅原', '松田', '浅木']\n"
     ]
    }
   ],
   "source": [
    "members = [\"工藤\", \"松田\", \"浅木\"]\n",
    "members[0] = \"菅原\"\n",
    "print(members)"
   ]
  },
  {
   "cell_type": "code",
   "execution_count": 14,
   "id": "f70b96f5-4a15-4517-8204-95ea3d67bdfd",
   "metadata": {},
   "outputs": [
    {
     "name": "stdout",
     "output_type": "stream",
     "text": [
      "[20, 30]\n",
      "[30, 40, 50]\n",
      "[10, 20, 30]\n"
     ]
    }
   ],
   "source": [
    "a = [10, 20, 30, 40, 50]\n",
    "print(a[1:3])\n",
    "print(a[2:])\n",
    "print(a[:3])"
   ]
  },
  {
   "cell_type": "code",
   "execution_count": 15,
   "id": "7147a2ff-a16d-406a-8f91-27a696950a9c",
   "metadata": {},
   "outputs": [
    {
     "name": "stdout",
     "output_type": "stream",
     "text": [
      "50\n",
      "40\n"
     ]
    }
   ],
   "source": [
    "a = [10, 20, 30, 40, 50]\n",
    "print(a[-1])\n",
    "print(a[-2])"
   ]
  },
  {
   "cell_type": "code",
   "execution_count": 1,
   "id": "21b6ff26-051b-4209-b428-089c33734a5c",
   "metadata": {},
   "outputs": [
    {
     "name": "stdout",
     "output_type": "stream",
     "text": [
      "{'network': 60, 'database': 80, 'security': 50}\n"
     ]
    }
   ],
   "source": [
    "scores = {\"network\": 60, \"database\": 80, \"security\": 50}\n",
    "print(scores)"
   ]
  },
  {
   "cell_type": "code",
   "execution_count": 2,
   "id": "9bae6afd-ba0d-469d-8315-b6ecfa2a6ed3",
   "metadata": {},
   "outputs": [
    {
     "name": "stdout",
     "output_type": "stream",
     "text": [
      "80\n"
     ]
    }
   ],
   "source": [
    "scores = {\"network\": 60, \"database\": 80, \"security\": 50}\n",
    "print(scores[\"database\"])"
   ]
  },
  {
   "cell_type": "code",
   "execution_count": 4,
   "id": "ff7872b8-710d-4a2c-83df-9d2f825d350c",
   "metadata": {},
   "outputs": [
    {
     "name": "stdout",
     "output_type": "stream",
     "text": [
      "{'network': 60, 'database': 80, 'security': 55, 'programing': 65}\n"
     ]
    }
   ],
   "source": [
    "scores = {\"network\": 60, \"database\": 80, \"security\": 50}\n",
    "scores[\"programing\"] = 65\n",
    "scores[\"security\"] = 55\n",
    "print(scores)"
   ]
  },
  {
   "cell_type": "code",
   "execution_count": 6,
   "id": "968b65a6-7b44-4584-80ab-71fe3e596ea2",
   "metadata": {},
   "outputs": [
    {
     "name": "stdout",
     "output_type": "stream",
     "text": [
      "{'network': 60, 'database': 80}\n"
     ]
    }
   ],
   "source": [
    "scores = {\"network\": 60, \"database\": 80, \"security\": 50}\n",
    "del scores[\"security\"]\n",
    "print(scores)"
   ]
  },
  {
   "cell_type": "code",
   "execution_count": 9,
   "id": "f3c5788a-7b78-43cb-acc4-a0f7188c3d21",
   "metadata": {},
   "outputs": [
    {
     "name": "stdout",
     "output_type": "stream",
     "text": [
      "190\n"
     ]
    }
   ],
   "source": [
    "scores = {\"network\": 60, \"database\": 80, \"security\": 50}\n",
    "total = sum(scores.values())\n",
    "print(total)"
   ]
  },
  {
   "cell_type": "code",
   "execution_count": null,
   "id": "aca22526-1584-4d1e-a39b-6e83e9db2455",
   "metadata": {},
   "outputs": [],
   "source": []
  }
 ],
 "metadata": {
  "kernelspec": {
   "display_name": "Python 3 (ipykernel)",
   "language": "python",
   "name": "python3"
  },
  "language_info": {
   "codemirror_mode": {
    "name": "ipython",
    "version": 3
   },
   "file_extension": ".py",
   "mimetype": "text/x-python",
   "name": "python",
   "nbconvert_exporter": "python",
   "pygments_lexer": "ipython3",
   "version": "3.9.7"
  }
 },
 "nbformat": 4,
 "nbformat_minor": 5
}
