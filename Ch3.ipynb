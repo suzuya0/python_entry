{
 "cells": [
  {
   "cell_type": "code",
   "execution_count": 1,
   "id": "91104bbc-4024-4fdf-872f-054f365bc367",
   "metadata": {},
   "outputs": [
    {
     "name": "stdin",
     "output_type": "stream",
     "text": [
      "あなたの名前を教えてください>> マックス\n"
     ]
    },
    {
     "name": "stdout",
     "output_type": "stream",
     "text": [
      "マックスさん、こんにちは\n"
     ]
    },
    {
     "name": "stdin",
     "output_type": "stream",
     "text": [
      "マックスさんの好きな食べ物を教えてください>> 串カツ\n"
     ]
    },
    {
     "name": "stdout",
     "output_type": "stream",
     "text": [
      "私も串カツが好きですよ\n"
     ]
    }
   ],
   "source": [
    "name = input('あなたの名前を教えてください>>')\n",
    "print('{}さん、こんにちは'.format(name))\n",
    "food = input('{}さんの好きな食べ物を教えてください>>'.format(name))\n",
    "print('私も{}が好きですよ'.format(food))"
   ]
  },
  {
   "cell_type": "code",
   "execution_count": 3,
   "id": "0afabe30-a1e0-4755-af03-85f4b0c11dea",
   "metadata": {},
   "outputs": [
    {
     "name": "stdin",
     "output_type": "stream",
     "text": [
      "あなたの名前を教えてください>> 松田\n"
     ]
    },
    {
     "name": "stdout",
     "output_type": "stream",
     "text": [
      "松田さん、こんにちは\n"
     ]
    },
    {
     "name": "stdin",
     "output_type": "stream",
     "text": [
      "松田さんの好きな食べ物を教えてください>> そば\n"
     ]
    },
    {
     "name": "stdout",
     "output_type": "stream",
     "text": [
      "私もそばが好きですよ\n"
     ]
    }
   ],
   "source": [
    "name = input('あなたの名前を教えてください>>')\n",
    "print('{}さん、こんにちは'.format(name))\n",
    "food = input('{}さんの好きな食べ物を教えてください>>'.format(name))\n",
    "if food == 'カレー':\n",
    "    print('素敵です。カレーは最高ですよね！！')\n",
    "else:\n",
    "    print('私も{}が好きですよ'.format(food))"
   ]
  },
  {
   "cell_type": "code",
   "execution_count": 8,
   "id": "f569044c-16b6-4ec1-9b4c-05a522ca5be7",
   "metadata": {},
   "outputs": [
    {
     "name": "stdin",
     "output_type": "stream",
     "text": [
      "試験の点数を入力してください>> 20\n"
     ]
    },
    {
     "name": "stdout",
     "output_type": "stream",
     "text": [
      "残念ながら不合格です\n",
      "追試を受けてください\n"
     ]
    }
   ],
   "source": [
    "score = int(input('試験の点数を入力してください>>'))\n",
    "if score >= 60:\n",
    "    print('合格!')\n",
    "    print('よくがんばりましたね')\n",
    "else:\n",
    "    print('残念ながら不合格です')\n",
    "    print('追試を受けてください')"
   ]
  },
  {
   "cell_type": "code",
   "execution_count": 10,
   "id": "22c7b69c-5e5b-438a-9c34-b66ff89759d5",
   "metadata": {},
   "outputs": [
    {
     "name": "stdin",
     "output_type": "stream",
     "text": [
      "あなたの名前を教えてください>> 松田\n"
     ]
    },
    {
     "name": "stdout",
     "output_type": "stream",
     "text": [
      "松田さん、こんにちは\n"
     ]
    },
    {
     "name": "stdin",
     "output_type": "stream",
     "text": [
      "松田さんの好きな食べ物を教えてください>> シーフードカレー\n"
     ]
    },
    {
     "name": "stdout",
     "output_type": "stream",
     "text": [
      "素敵です。カレーは最高ですよね！！\n"
     ]
    }
   ],
   "source": [
    "name = input('あなたの名前を教えてください>>')\n",
    "print('{}さん、こんにちは'.format(name))\n",
    "food = input('{}さんの好きな食べ物を教えてください>>'.format(name))\n",
    "if 'カレー' in food:\n",
    "    print('素敵です。カレーは最高ですよね！！')\n",
    "else:\n",
    "    print('私も{}が好きですよ!'.format(food))"
   ]
  },
  {
   "cell_type": "code",
   "execution_count": 15,
   "id": "c556aed9-43bb-4809-ba2e-e10049c905e7",
   "metadata": {},
   "outputs": [
    {
     "name": "stdout",
     "output_type": "stream",
     "text": [
      "100点満点の試験があったんですね。おめでとう！\n"
     ]
    }
   ],
   "source": [
    "scores = [80, 20, 100, 60]\n",
    "if 100 in scores:\n",
    "    print('100点満点の試験があったんですね。おめでとう！')\n",
    "else:\n",
    "    print('次はどれか1つでも１００点満点をとろう')"
   ]
  },
  {
   "cell_type": "code",
   "execution_count": 14,
   "id": "fc21e48d-d068-498e-be64-26e648528c8a",
   "metadata": {},
   "outputs": [
    {
     "name": "stdin",
     "output_type": "stream",
     "text": [
      "追加する科目名を入力してください>> network\n"
     ]
    },
    {
     "name": "stdout",
     "output_type": "stream",
     "text": [
      "すでに登録済です\n",
      "{'network': 60, 'databade': 80, 'security': 50}\n"
     ]
    }
   ],
   "source": [
    "scores = {'network' :60, 'databade': 80, 'security': 50}\n",
    "key = input('追加する科目名を入力してください>>')\n",
    "if key in scores:\n",
    "    print('すでに登録済です')\n",
    "else:\n",
    "    data = int(input('得点を入力してください>>'))\n",
    "    scores[key] = data\n",
    "print(scores)"
   ]
  },
  {
   "cell_type": "code",
   "execution_count": 17,
   "id": "4214f759-c3f0-4e38-b803-422a3f02c20f",
   "metadata": {},
   "outputs": [
    {
     "name": "stdout",
     "output_type": "stream",
     "text": [
      "条件成立\n"
     ]
    }
   ],
   "source": [
    "name = '松田'\n",
    "if name < '浅木':\n",
    "    print('条件成立')\n",
    "else:\n",
    "    print('条件不成立')"
   ]
  },
  {
   "cell_type": "code",
   "execution_count": 19,
   "id": "7040daa5-c7a6-4d4d-accd-ede273024719",
   "metadata": {},
   "outputs": [
    {
     "name": "stdin",
     "output_type": "stream",
     "text": [
      "試験の得点を入力>> 90\n"
     ]
    },
    {
     "name": "stdout",
     "output_type": "stream",
     "text": [
      "True\n"
     ]
    }
   ],
   "source": [
    "score = int(input('試験の得点を入力>>'))\n",
    "print(score >= 60)"
   ]
  },
  {
   "cell_type": "code",
   "execution_count": 22,
   "id": "ea1f667c-f288-4ed2-a1c8-b4fefe737dbb",
   "metadata": {},
   "outputs": [
    {
     "name": "stdin",
     "output_type": "stream",
     "text": [
      "あなたの名前を教えてください>> 浅木\n"
     ]
    },
    {
     "name": "stdout",
     "output_type": "stream",
     "text": [
      "浅木さん、こんにちは\n"
     ]
    },
    {
     "name": "stdin",
     "output_type": "stream",
     "text": [
      "浅木さんの好きな食べ物を教えてください>> そば\n"
     ]
    },
    {
     "name": "stdout",
     "output_type": "stream",
     "text": [
      "私もそばが好きですよ\n"
     ]
    }
   ],
   "source": [
    "name = input('あなたの名前を教えてください>>')\n",
    "print('{}さん、こんにちは'.format(name))\n",
    "if name == '松田':\n",
    "    print('松田さんに会えて嬉しいです')\n",
    "\n",
    "food = input('{}さんの好きな食べ物を教えてください>>'.format(name))\n",
    "\n",
    "if 'カレー' in food:\n",
    "    print('素敵です。とにかくカレーは最高ですよね')\n",
    "else:\n",
    "    print('私も{}が好きですよ'.format(food))"
   ]
  },
  {
   "cell_type": "code",
   "execution_count": 25,
   "id": "1c87b3d3-95c9-4382-9683-517e6fadc55c",
   "metadata": {},
   "outputs": [
    {
     "name": "stdin",
     "output_type": "stream",
     "text": [
      "試験の点数を入力してください>> 2\n"
     ]
    },
    {
     "name": "stdout",
     "output_type": "stream",
     "text": [
      "残念ながら不合格です\n",
      "追試を受けてください\n"
     ]
    }
   ],
   "source": [
    "score = int(input('試験の点数を入力してください>>'))\n",
    "\n",
    "if score < 0 or score > 100:\n",
    "    print('異常な得点です')\n",
    "    print('入力し直してください')\n",
    "elif score >= 60:\n",
    "    print('合格!')\n",
    "    print('よく頑張りましたね')\n",
    "else:\n",
    "    print('残念ながら不合格です')\n",
    "    print('追試を受けてください')"
   ]
  },
  {
   "cell_type": "code",
   "execution_count": 31,
   "id": "6edfc706-e8ec-4d2f-addc-08c2a9fa5309",
   "metadata": {},
   "outputs": [
    {
     "name": "stdout",
     "output_type": "stream",
     "text": [
      "すべての質問に y または n で答えてください\n"
     ]
    },
    {
     "name": "stdin",
     "output_type": "stream",
     "text": [
      "お金に余裕はありますか？>> y\n",
      "お腹がすごく空いてますか?>> n\n",
      "ビールを飲みたいですか？>> n\n"
     ]
    },
    {
     "name": "stdout",
     "output_type": "stream",
     "text": [
      "パスタはいかがですか\n"
     ]
    },
    {
     "name": "stdin",
     "output_type": "stream",
     "text": [
      "夜食は必要ですか>> n\n"
     ]
    }
   ],
   "source": [
    "print('すべての質問に y または n で答えてください')\n",
    "okane_aruka = input('お金に余裕はありますか？>>')\n",
    "if okane_aruka == 'y':\n",
    "    onaka_suiteruka = input('お腹がすごく空いてますか?>>')\n",
    "    nomitai_kibunka = input('ビールを飲みたいですか？>>')\n",
    "    if onaka_suiteruka == 'y' and nomitai_kibunka == 'y':\n",
    "        print('焼肉はいかがですか')\n",
    "    elif onaka_suiteruka == 'y':\n",
    "        print('カレーはいかがですか')\n",
    "    elif nomitai_kibunka == 'y':\n",
    "        print('焼き鳥はいかがですか')\n",
    "    else:\n",
    "        print('パスタはいかがですか')\n",
    "    yashoku_iruka = input('夜食は必要ですか>>')\n",
    "    if yashoku_iruka == 'y':\n",
    "        print('コンビニのチキンはいかがですか')\n",
    "else:\n",
    "    print('家で食べましょう')"
   ]
  },
  {
   "cell_type": "code",
   "execution_count": 33,
   "id": "12cd22ca-054d-410a-a06e-3cdcf8aef7f5",
   "metadata": {},
   "outputs": [],
   "source": [
    "# initial == 'K'\n",
    "# point >= 80 and point < 256\n",
    "# bmi < 20 or bmi > 25\n",
    "# y % 4 == 0\n",
    "# not(day in [28, 30, 31])"
   ]
  },
  {
   "cell_type": "code",
   "execution_count": 35,
   "id": "4996ea9f-10bb-45e6-80dc-52a0b0634b92",
   "metadata": {},
   "outputs": [
    {
     "name": "stdout",
     "output_type": "stream",
     "text": [
      "エラーはないです\n"
     ]
    }
   ],
   "source": [
    "isError = False\n",
    "n = 80\n",
    "if isError == False and n < 100:\n",
    "    print('エラーはないです')"
   ]
  },
  {
   "cell_type": "code",
   "execution_count": 41,
   "id": "f86ffb02-1190-447d-9929-44141c52d765",
   "metadata": {},
   "outputs": [
    {
     "name": "stdin",
     "output_type": "stream",
     "text": [
      "数字を入力してください>> 8\n"
     ]
    },
    {
     "name": "stdout",
     "output_type": "stream",
     "text": [
      "8は偶数です\n"
     ]
    }
   ],
   "source": [
    "number = int(input('数字を入力してください>>'))\n",
    "if number % 2 == 0:\n",
    "    print(f'{number}は偶数です')\n",
    "else:\n",
    "    print(f'{number}は奇数です')"
   ]
  },
  {
   "cell_type": "code",
   "execution_count": 45,
   "id": "0ef55305-e93f-4c58-be22-47b9ec96558d",
   "metadata": {},
   "outputs": [
    {
     "name": "stdin",
     "output_type": "stream",
     "text": [
      "挨拶しましょう さようなら\n"
     ]
    },
    {
     "name": "stdout",
     "output_type": "stream",
     "text": [
      "お元気で\n"
     ]
    }
   ],
   "source": [
    "greeting = input('挨拶しましょう')\n",
    "if greeting == 'こんにちは':\n",
    "    print('ようこそ！')\n",
    "elif greeting == '景気は？':\n",
    "    print('ぼちぼちです')\n",
    "elif greeting == 'さようなら':\n",
    "    print('お元気で')\n",
    "else:\n",
    "    print('どうしました？')"
   ]
  },
  {
   "cell_type": "code",
   "execution_count": 49,
   "id": "6aaf8080-71fe-413a-beea-80ceea50009e",
   "metadata": {},
   "outputs": [
    {
     "name": "stdin",
     "output_type": "stream",
     "text": [
      "今は何月ですか？>> 2\n"
     ]
    },
    {
     "name": "stdout",
     "output_type": "stream",
     "text": [
      "1年で一番寒い月ですね\n",
      "年が明けてから\n",
      "2ヶ月が過ぎました\n"
     ]
    }
   ],
   "source": [
    "month = int(input('今は何月ですか？>>'))\n",
    "if month in [1,3,5,7,8,10,12]:\n",
    "    print('31日までありますね')\n",
    "else:\n",
    "    if month != 2:\n",
    "        print('30日までありますね')\n",
    "    else:\n",
    "        print('1年で一番寒い月ですね')\n",
    "    print('年が明けてから')\n",
    "print(f'{month}ヶ月が過ぎました')"
   ]
  },
  {
   "cell_type": "code",
   "execution_count": 51,
   "id": "ae14595d-4a56-4d00-9b22-ad492cc1e993",
   "metadata": {},
   "outputs": [
    {
     "name": "stdin",
     "output_type": "stream",
     "text": [
      "数字を入力>> 4\n"
     ]
    },
    {
     "name": "stdout",
     "output_type": "stream",
     "text": [
      "偶数です\n"
     ]
    }
   ],
   "source": [
    "number = int(input('数字を入力>>'))\n",
    "div = '偶数' if number % 2 == 0 else '奇数'\n",
    "print(f'{div}です')"
   ]
  },
  {
   "cell_type": "code",
   "execution_count": null,
   "id": "45e14119-5a41-4d54-9c69-8011804555e6",
   "metadata": {},
   "outputs": [],
   "source": []
  }
 ],
 "metadata": {
  "kernelspec": {
   "display_name": "Python 3 (ipykernel)",
   "language": "python",
   "name": "python3"
  },
  "language_info": {
   "codemirror_mode": {
    "name": "ipython",
    "version": 3
   },
   "file_extension": ".py",
   "mimetype": "text/x-python",
   "name": "python",
   "nbconvert_exporter": "python",
   "pygments_lexer": "ipython3",
   "version": "3.9.7"
  }
 },
 "nbformat": 4,
 "nbformat_minor": 5
}
