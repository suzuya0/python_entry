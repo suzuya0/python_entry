{
 "cells": [
  {
   "cell_type": "code",
   "execution_count": 1,
   "id": "91104bbc-4024-4fdf-872f-054f365bc367",
   "metadata": {},
   "outputs": [
    {
     "name": "stdin",
     "output_type": "stream",
     "text": [
      "あなたの名前を教えてください>> マックス\n"
     ]
    },
    {
     "name": "stdout",
     "output_type": "stream",
     "text": [
      "マックスさん、こんにちは\n"
     ]
    },
    {
     "name": "stdin",
     "output_type": "stream",
     "text": [
      "マックスさんの好きな食べ物を教えてください>> 串カツ\n"
     ]
    },
    {
     "name": "stdout",
     "output_type": "stream",
     "text": [
      "私も串カツが好きですよ\n"
     ]
    }
   ],
   "source": [
    "name = input('あなたの名前を教えてください>>')\n",
    "print('{}さん、こんにちは'.format(name))\n",
    "food = input('{}さんの好きな食べ物を教えてください>>'.format(name))\n",
    "print('私も{}が好きですよ'.format(food))"
   ]
  },
  {
   "cell_type": "code",
   "execution_count": 3,
   "id": "0afabe30-a1e0-4755-af03-85f4b0c11dea",
   "metadata": {},
   "outputs": [
    {
     "name": "stdin",
     "output_type": "stream",
     "text": [
      "あなたの名前を教えてください>> 松田\n"
     ]
    },
    {
     "name": "stdout",
     "output_type": "stream",
     "text": [
      "松田さん、こんにちは\n"
     ]
    },
    {
     "name": "stdin",
     "output_type": "stream",
     "text": [
      "松田さんの好きな食べ物を教えてください>> そば\n"
     ]
    },
    {
     "name": "stdout",
     "output_type": "stream",
     "text": [
      "私もそばが好きですよ\n"
     ]
    }
   ],
   "source": [
    "name = input('あなたの名前を教えてください>>')\n",
    "print('{}さん、こんにちは'.format(name))\n",
    "food = input('{}さんの好きな食べ物を教えてください>>'.format(name))\n",
    "if food == 'カレー':\n",
    "    print('素敵です。カレーは最高ですよね！！')\n",
    "else:\n",
    "    print('私も{}が好きですよ'.format(food))"
   ]
  },
  {
   "cell_type": "code",
   "execution_count": 8,
   "id": "f569044c-16b6-4ec1-9b4c-05a522ca5be7",
   "metadata": {},
   "outputs": [
    {
     "name": "stdin",
     "output_type": "stream",
     "text": [
      "試験の点数を入力してください>> 20\n"
     ]
    },
    {
     "name": "stdout",
     "output_type": "stream",
     "text": [
      "残念ながら不合格です\n",
      "追試を受けてください\n"
     ]
    }
   ],
   "source": [
    "score = int(input('試験の点数を入力してください>>'))\n",
    "if score >= 60:\n",
    "    print('合格!')\n",
    "    print('よくがんばりましたね')\n",
    "else:\n",
    "    print('残念ながら不合格です')\n",
    "    print('追試を受けてください')"
   ]
  },
  {
   "cell_type": "code",
   "execution_count": null,
   "id": "22c7b69c-5e5b-438a-9c34-b66ff89759d5",
   "metadata": {},
   "outputs": [],
   "source": []
  }
 ],
 "metadata": {
  "kernelspec": {
   "display_name": "Python 3 (ipykernel)",
   "language": "python",
   "name": "python3"
  },
  "language_info": {
   "codemirror_mode": {
    "name": "ipython",
    "version": 3
   },
   "file_extension": ".py",
   "mimetype": "text/x-python",
   "name": "python",
   "nbconvert_exporter": "python",
   "pygments_lexer": "ipython3",
   "version": "3.9.7"
  }
 },
 "nbformat": 4,
 "nbformat_minor": 5
}
