{
 "cells": [
  {
   "cell_type": "code",
   "execution_count": 1,
   "id": "91104bbc-4024-4fdf-872f-054f365bc367",
   "metadata": {},
   "outputs": [
    {
     "name": "stdin",
     "output_type": "stream",
     "text": [
      "あなたの名前を教えてください>> マックス\n"
     ]
    },
    {
     "name": "stdout",
     "output_type": "stream",
     "text": [
      "マックスさん、こんにちは\n"
     ]
    },
    {
     "name": "stdin",
     "output_type": "stream",
     "text": [
      "マックスさんの好きな食べ物を教えてください>> 串カツ\n"
     ]
    },
    {
     "name": "stdout",
     "output_type": "stream",
     "text": [
      "私も串カツが好きですよ\n"
     ]
    }
   ],
   "source": [
    "name = input('あなたの名前を教えてください>>')\n",
    "print('{}さん、こんにちは'.format(name))\n",
    "food = input('{}さんの好きな食べ物を教えてください>>'.format(name))\n",
    "print('私も{}が好きですよ'.format(food))"
   ]
  },
  {
   "cell_type": "code",
   "execution_count": 3,
   "id": "0afabe30-a1e0-4755-af03-85f4b0c11dea",
   "metadata": {},
   "outputs": [
    {
     "name": "stdin",
     "output_type": "stream",
     "text": [
      "あなたの名前を教えてください>> 松田\n"
     ]
    },
    {
     "name": "stdout",
     "output_type": "stream",
     "text": [
      "松田さん、こんにちは\n"
     ]
    },
    {
     "name": "stdin",
     "output_type": "stream",
     "text": [
      "松田さんの好きな食べ物を教えてください>> そば\n"
     ]
    },
    {
     "name": "stdout",
     "output_type": "stream",
     "text": [
      "私もそばが好きですよ\n"
     ]
    }
   ],
   "source": [
    "name = input('あなたの名前を教えてください>>')\n",
    "print('{}さん、こんにちは'.format(name))\n",
    "food = input('{}さんの好きな食べ物を教えてください>>'.format(name))\n",
    "if food == 'カレー':\n",
    "    print('素敵です。カレーは最高ですよね！！')\n",
    "else:\n",
    "    print('私も{}が好きですよ'.format(food))"
   ]
  },
  {
   "cell_type": "code",
   "execution_count": 8,
   "id": "f569044c-16b6-4ec1-9b4c-05a522ca5be7",
   "metadata": {},
   "outputs": [
    {
     "name": "stdin",
     "output_type": "stream",
     "text": [
      "試験の点数を入力してください>> 20\n"
     ]
    },
    {
     "name": "stdout",
     "output_type": "stream",
     "text": [
      "残念ながら不合格です\n",
      "追試を受けてください\n"
     ]
    }
   ],
   "source": [
    "score = int(input('試験の点数を入力してください>>'))\n",
    "if score >= 60:\n",
    "    print('合格!')\n",
    "    print('よくがんばりましたね')\n",
    "else:\n",
    "    print('残念ながら不合格です')\n",
    "    print('追試を受けてください')"
   ]
  },
  {
   "cell_type": "code",
   "execution_count": 10,
   "id": "22c7b69c-5e5b-438a-9c34-b66ff89759d5",
   "metadata": {},
   "outputs": [
    {
     "name": "stdin",
     "output_type": "stream",
     "text": [
      "あなたの名前を教えてください>> 松田\n"
     ]
    },
    {
     "name": "stdout",
     "output_type": "stream",
     "text": [
      "松田さん、こんにちは\n"
     ]
    },
    {
     "name": "stdin",
     "output_type": "stream",
     "text": [
      "松田さんの好きな食べ物を教えてください>> シーフードカレー\n"
     ]
    },
    {
     "name": "stdout",
     "output_type": "stream",
     "text": [
      "素敵です。カレーは最高ですよね！！\n"
     ]
    }
   ],
   "source": [
    "name = input('あなたの名前を教えてください>>')\n",
    "print('{}さん、こんにちは'.format(name))\n",
    "food = input('{}さんの好きな食べ物を教えてください>>'.format(name))\n",
    "if 'カレー' in food:\n",
    "    print('素敵です。カレーは最高ですよね！！')\n",
    "else:\n",
    "    print('私も{}が好きですよ!'.format(food))"
   ]
  },
  {
   "cell_type": "code",
   "execution_count": 15,
   "id": "c556aed9-43bb-4809-ba2e-e10049c905e7",
   "metadata": {},
   "outputs": [
    {
     "name": "stdout",
     "output_type": "stream",
     "text": [
      "100点満点の試験があったんですね。おめでとう！\n"
     ]
    }
   ],
   "source": [
    "scores = [80, 20, 100, 60]\n",
    "if 100 in scores:\n",
    "    print('100点満点の試験があったんですね。おめでとう！')\n",
    "else:\n",
    "    print('次はどれか1つでも１００点満点をとろう')"
   ]
  },
  {
   "cell_type": "code",
   "execution_count": 14,
   "id": "fc21e48d-d068-498e-be64-26e648528c8a",
   "metadata": {},
   "outputs": [
    {
     "name": "stdin",
     "output_type": "stream",
     "text": [
      "追加する科目名を入力してください>> network\n"
     ]
    },
    {
     "name": "stdout",
     "output_type": "stream",
     "text": [
      "すでに登録済です\n",
      "{'network': 60, 'databade': 80, 'security': 50}\n"
     ]
    }
   ],
   "source": [
    "scores = {'network' :60, 'databade': 80, 'security': 50}\n",
    "key = input('追加する科目名を入力してください>>')\n",
    "if key in scores:\n",
    "    print('すでに登録済です')\n",
    "else:\n",
    "    data = int(input('得点を入力してください>>'))\n",
    "    scores[key] = data\n",
    "print(scores)"
   ]
  },
  {
   "cell_type": "code",
   "execution_count": 17,
   "id": "4214f759-c3f0-4e38-b803-422a3f02c20f",
   "metadata": {},
   "outputs": [
    {
     "name": "stdout",
     "output_type": "stream",
     "text": [
      "条件成立\n"
     ]
    }
   ],
   "source": [
    "name = '松田'\n",
    "if name < '浅木':\n",
    "    print('条件成立')\n",
    "else:\n",
    "    print('条件不成立')"
   ]
  },
  {
   "cell_type": "code",
   "execution_count": 19,
   "id": "7040daa5-c7a6-4d4d-accd-ede273024719",
   "metadata": {},
   "outputs": [
    {
     "name": "stdin",
     "output_type": "stream",
     "text": [
      "試験の得点を入力>> 90\n"
     ]
    },
    {
     "name": "stdout",
     "output_type": "stream",
     "text": [
      "True\n"
     ]
    }
   ],
   "source": [
    "score = int(input('試験の得点を入力>>'))\n",
    "print(score >= 60)"
   ]
  },
  {
   "cell_type": "code",
   "execution_count": null,
   "id": "ea1f667c-f288-4ed2-a1c8-b4fefe737dbb",
   "metadata": {},
   "outputs": [],
   "source": []
  }
 ],
 "metadata": {
  "kernelspec": {
   "display_name": "Python 3 (ipykernel)",
   "language": "python",
   "name": "python3"
  },
  "language_info": {
   "codemirror_mode": {
    "name": "ipython",
    "version": 3
   },
   "file_extension": ".py",
   "mimetype": "text/x-python",
   "name": "python",
   "nbconvert_exporter": "python",
   "pygments_lexer": "ipython3",
   "version": "3.9.7"
  }
 },
 "nbformat": 4,
 "nbformat_minor": 5
}
