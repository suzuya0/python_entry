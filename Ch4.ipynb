{
 "cells": [
  {
   "cell_type": "code",
   "execution_count": 1,
   "id": "4e84255e-ac11-4fb3-af60-15be08871da2",
   "metadata": {},
   "outputs": [
    {
     "name": "stdout",
     "output_type": "stream",
     "text": [
      "さあ、寝ようかしら\n",
      "ひつじが1匹\n",
      "ひつじが2匹\n",
      "ひつじが3匹\n",
      "おやすみなさい\n"
     ]
    }
   ],
   "source": [
    "print('さあ、寝ようかしら')\n",
    "count = 0\n",
    "count += 1\n",
    "print(f'ひつじが{count}匹')\n",
    "count += 1\n",
    "print(f'ひつじが{count}匹')\n",
    "count += 1\n",
    "print(f'ひつじが{count}匹')\n",
    "print('おやすみなさい')"
   ]
  },
  {
   "cell_type": "code",
   "execution_count": 2,
   "id": "c07b1523-7258-4309-85a5-1b01b94c50d4",
   "metadata": {},
   "outputs": [
    {
     "name": "stdout",
     "output_type": "stream",
     "text": [
      "ひつじが1匹\n",
      "ひつじが2匹\n",
      "ひつじが3匹\n",
      "おやすみなさい\n"
     ]
    }
   ],
   "source": [
    "count = 0\n",
    "while count < 3:\n",
    "    count += 1\n",
    "    print(f'ひつじが{count}匹')\n",
    "print('おやすみなさい')"
   ]
  },
  {
   "cell_type": "code",
   "execution_count": 6,
   "id": "cbd31f07-4c67-41c5-8e48-a8a7a5b0543f",
   "metadata": {},
   "outputs": [
    {
     "name": "stdout",
     "output_type": "stream",
     "text": [
      "すやすや…zzz\n"
     ]
    }
   ],
   "source": [
    "count = 0\n",
    "# while count < 3:\n",
    "    print(f'ひつじが{count}匹')\n",
    "print('すやすや…zzz')"
   ]
  },
  {
   "cell_type": "code",
   "execution_count": 12,
   "id": "2302efd4-1d4c-4498-8ef3-dc5ec9e0dcf5",
   "metadata": {},
   "outputs": [
    {
     "name": "stdout",
     "output_type": "stream",
     "text": [
      "ひつじが1匹\n"
     ]
    },
    {
     "name": "stdin",
     "output_type": "stream",
     "text": [
      "もう眠りそうですか(y/n)>> n\n"
     ]
    },
    {
     "name": "stdout",
     "output_type": "stream",
     "text": [
      "ひつじが2匹\n"
     ]
    },
    {
     "name": "stdin",
     "output_type": "stream",
     "text": [
      "もう眠りそうですか(y/n)>> n\n"
     ]
    },
    {
     "name": "stdout",
     "output_type": "stream",
     "text": [
      "ひつじが3匹\n"
     ]
    },
    {
     "name": "stdin",
     "output_type": "stream",
     "text": [
      "もう眠りそうですか(y/n)>> n\n"
     ]
    },
    {
     "name": "stdout",
     "output_type": "stream",
     "text": [
      "ひつじが4匹\n"
     ]
    },
    {
     "name": "stdin",
     "output_type": "stream",
     "text": [
      "もう眠りそうですか(y/n)>> n\n"
     ]
    },
    {
     "name": "stdout",
     "output_type": "stream",
     "text": [
      "ひつじが5匹\n"
     ]
    },
    {
     "name": "stdin",
     "output_type": "stream",
     "text": [
      "もう眠りそうですか(y/n)>> n\n"
     ]
    },
    {
     "name": "stdout",
     "output_type": "stream",
     "text": [
      "ひつじが6匹\n"
     ]
    },
    {
     "name": "stdin",
     "output_type": "stream",
     "text": [
      "もう眠りそうですか(y/n)>> y\n"
     ]
    },
    {
     "name": "stdout",
     "output_type": "stream",
     "text": [
      "おやすみなさい\n"
     ]
    }
   ],
   "source": [
    "is_awake = True\n",
    "count = 0\n",
    "while is_awake ==True:\n",
    "    count += 1\n",
    "    print(f'ひつじが{count}匹')\n",
    "    key = input('もう眠りそうですか(y/n)>>')\n",
    "    if key == 'y':\n",
    "        is_awake = False\n",
    "print('おやすみなさい')"
   ]
  },
  {
   "cell_type": "code",
   "execution_count": 15,
   "id": "21652527-23dc-4231-9386-9778bcbef40d",
   "metadata": {},
   "outputs": [
    {
     "name": "stdin",
     "output_type": "stream",
     "text": [
      "学生の数を入力>> 6\n",
      "1人目の試験の得点を入力>> 80\n",
      "2人目の試験の得点を入力>> 70\n",
      "3人目の試験の得点を入力>> 60\n",
      "4人目の試験の得点を入力>> 50\n",
      "5人目の試験の得点を入力>> 40\n",
      "6人目の試験の得点を入力>> 30\n"
     ]
    },
    {
     "name": "stdout",
     "output_type": "stream",
     "text": [
      "[80, 70, 60, 50, 40, 30]\n",
      "平均点は55.0点です\n"
     ]
    }
   ],
   "source": [
    "count = 0\n",
    "student_num = int(input('学生の数を入力>>'))\n",
    "score_list = list()\n",
    "while count < student_num:\n",
    "    count += 1\n",
    "    score = int(input(f'{count}人目の試験の得点を入力>>'))\n",
    "    score_list.append(score)\n",
    "print(score_list)\n",
    "total = sum(score_list)\n",
    "print(f'平均点は{ total / student_num }点です')"
   ]
  },
  {
   "cell_type": "code",
   "execution_count": 17,
   "id": "d17227fc-66d7-44dd-b9f2-19327d78a3d0",
   "metadata": {},
   "outputs": [
    {
     "name": "stdout",
     "output_type": "stream",
     "text": [
      "合格\n",
      "不合格\n",
      "合格\n",
      "合格\n",
      "不合格\n"
     ]
    }
   ],
   "source": [
    "scores = [80, 20, 75, 60, 7]\n",
    "count = 0\n",
    "while count < len(scores):\n",
    "    if scores[count] >= 60:\n",
    "        print('合格')\n",
    "    else:\n",
    "        print('不合格')\n",
    "    count += 1"
   ]
  },
  {
   "cell_type": "code",
   "execution_count": 19,
   "id": "4f4d7b36-c663-4938-b677-f523758ba5bb",
   "metadata": {},
   "outputs": [
    {
     "name": "stdout",
     "output_type": "stream",
     "text": [
      "合格\n",
      "不合格\n",
      "合格\n",
      "合格\n"
     ]
    }
   ],
   "source": [
    "scores = [80, 20, 75, 60]\n",
    "for data in scores:\n",
    "    if data >= 60:\n",
    "        print('合格')\n",
    "    else:\n",
    "        print('不合格')"
   ]
  },
  {
   "cell_type": "code",
   "execution_count": 20,
   "id": "93944bd4-6ca3-4d57-84cd-846c8ecca9e1",
   "metadata": {},
   "outputs": [
    {
     "name": "stdout",
     "output_type": "stream",
     "text": [
      "pythonは楽しい\n",
      "pythonは楽しい\n",
      "pythonは楽しい\n"
     ]
    }
   ],
   "source": [
    "for num in range(3):\n",
    "    print('pythonは楽しい')"
   ]
  },
  {
   "cell_type": "code",
   "execution_count": 24,
   "id": "bba73e1b-b81c-4b3a-a4d4-77dc20faacd9",
   "metadata": {},
   "outputs": [
    {
     "name": "stdout",
     "output_type": "stream",
     "text": [
      "[28, 20, 25, 22, 27]\n"
     ]
    }
   ],
   "source": [
    "ages = [28, 50, 8, 20, 78, 25, 22, 10, 27, 33]\n",
    "num = 5\n",
    "samples = list()\n",
    "for age in ages:\n",
    "    if 20 <= age < 30:\n",
    "        if len(samples) < num:\n",
    "            samples.append(age)\n",
    "print (samples)"
   ]
  },
  {
   "cell_type": "code",
   "execution_count": 28,
   "id": "c6ec32ff-169b-4a73-a97b-f9338a026ea4",
   "metadata": {},
   "outputs": [
    {
     "name": "stdout",
     "output_type": "stream",
     "text": [
      "[28, 20, 25, 22, 27]\n"
     ]
    }
   ],
   "source": [
    "ages = [28, 50, 8, 20, 78, 25, 22, 10, 27, 33]\n",
    "num = 5\n",
    "samples = list()\n",
    "for age in ages:\n",
    "    if 20 <= age < 30:\n",
    "        samples.append(age)\n",
    "        if len(samples) == num:\n",
    "            break\n",
    "print(samples)"
   ]
  },
  {
   "cell_type": "code",
   "execution_count": 34,
   "id": "5d1a9d24-e542-471d-b9f7-2a29259bc522",
   "metadata": {},
   "outputs": [
    {
     "name": "stdout",
     "output_type": "stream",
     "text": [
      "[28, 20, 25, 22, 27]\n"
     ]
    }
   ],
   "source": [
    "age = [28, 50, 'ひみつ', 20, 78, 25, 22, 10, '無回答', 33]\n",
    "samples = []\n",
    "for data in ages:\n",
    "    if not isinstance(data, int):\n",
    "        continue\n",
    "    if data < 20 or data >= 30:\n",
    "        continue\n",
    "    samples.append(data)\n",
    "print(samples)"
   ]
  },
  {
   "cell_type": "code",
   "execution_count": 35,
   "id": "7a847a7a-b3cc-4e8a-aa09-723989c74af1",
   "metadata": {},
   "outputs": [
    {
     "name": "stdout",
     "output_type": "stream",
     "text": [
      "0\n",
      "1\n",
      "2\n",
      "3\n",
      "4\n"
     ]
    }
   ],
   "source": [
    "count = 0\n",
    "while count < 5:\n",
    "    print(count)\n",
    "    count += 1"
   ]
  },
  {
   "cell_type": "code",
   "execution_count": 36,
   "id": "13d3f79e-4b7c-4995-b29f-fa8c8537088f",
   "metadata": {},
   "outputs": [
    {
     "name": "stdout",
     "output_type": "stream",
     "text": [
      "1\n",
      "2\n",
      "3\n",
      "4\n",
      "5\n"
     ]
    }
   ],
   "source": [
    "count = 1\n",
    "while count <= 5:\n",
    "    print(count)\n",
    "    count += 1"
   ]
  },
  {
   "cell_type": "code",
   "execution_count": 37,
   "id": "59dbc882-e0c1-4527-b5fe-ac8077e65502",
   "metadata": {},
   "outputs": [
    {
     "name": "stdout",
     "output_type": "stream",
     "text": [
      "0\n",
      "1\n",
      "2\n",
      "3\n",
      "4\n"
     ]
    }
   ],
   "source": [
    "data = [88, 21, 65, 160, 57]\n",
    "count = 0\n",
    "while count < len(data):\n",
    "    print(count)\n",
    "    count += 1"
   ]
  },
  {
   "cell_type": "code",
   "execution_count": 38,
   "id": "a32cc6cb-2f73-47cb-a630-c332954c7dd2",
   "metadata": {},
   "outputs": [
    {
     "name": "stdout",
     "output_type": "stream",
     "text": [
      "0\n",
      "1\n",
      "2\n",
      "3\n",
      "4\n"
     ]
    }
   ],
   "source": [
    "for num in range(5):\n",
    "    print(num)"
   ]
  },
  {
   "cell_type": "code",
   "execution_count": 39,
   "id": "2b089a5a-e1b0-43af-a427-41a8f2bd970d",
   "metadata": {},
   "outputs": [
    {
     "name": "stdout",
     "output_type": "stream",
     "text": [
      "88\n",
      "21\n",
      "65\n",
      "169\n",
      "57\n"
     ]
    }
   ],
   "source": [
    "for item in [88, 21, 65, 169, 57]:\n",
    "    print(item)"
   ]
  },
  {
   "cell_type": "code",
   "execution_count": 40,
   "id": "59767530-eb48-4c2f-9ad8-9737309f5a76",
   "metadata": {},
   "outputs": [
    {
     "name": "stdout",
     "output_type": "stream",
     "text": [
      "88\n",
      "21\n",
      "65\n",
      "169\n",
      "57\n"
     ]
    }
   ],
   "source": [
    "data = [88, 21, 65, 169, 57]\n",
    "for item in data:\n",
    "    print(item)"
   ]
  },
  {
   "cell_type": "code",
   "execution_count": 42,
   "id": "8c2dc69e-6c6c-498b-850a-85c1c5b55a42",
   "metadata": {},
   "outputs": [
    {
     "name": "stdout",
     "output_type": "stream",
     "text": [
      "88\n",
      "21\n",
      "65\n"
     ]
    }
   ],
   "source": [
    "for item in [88, 21, 65, 160, 57]:\n",
    "    if item >= 100:\n",
    "        break\n",
    "    print(item)"
   ]
  },
  {
   "cell_type": "code",
   "execution_count": 43,
   "id": "48c10c44-7d4e-4cca-8db7-3f6267553bf7",
   "metadata": {},
   "outputs": [
    {
     "name": "stdout",
     "output_type": "stream",
     "text": [
      "88\n",
      "21\n",
      "65\n",
      "57\n"
     ]
    }
   ],
   "source": [
    "for item in [88, 21, 65, 160, 57]:\n",
    "    if item >= 100:\n",
    "        continue\n",
    "    print(item)"
   ]
  },
  {
   "cell_type": "code",
   "execution_count": 50,
   "id": "c305ea63-8716-4c26-8ec6-9cf34c38b5a5",
   "metadata": {},
   "outputs": [
    {
     "name": "stdout",
     "output_type": "stream",
     "text": [
      "カレーを召し上がれ\n",
      "1皿のカレーを食べました\n"
     ]
    },
    {
     "name": "stdin",
     "output_type": "stream",
     "text": [
      "おかわりはいかがですか？（y/n) y\n"
     ]
    },
    {
     "name": "stdout",
     "output_type": "stream",
     "text": [
      "2皿のカレーを食べました\n"
     ]
    },
    {
     "name": "stdin",
     "output_type": "stream",
     "text": [
      "おかわりはいかがですか？（y/n) y\n"
     ]
    },
    {
     "name": "stdout",
     "output_type": "stream",
     "text": [
      "3皿のカレーを食べました\n"
     ]
    },
    {
     "name": "stdin",
     "output_type": "stream",
     "text": [
      "おかわりはいかがですか？（y/n) y\n"
     ]
    },
    {
     "name": "stdout",
     "output_type": "stream",
     "text": [
      "4皿のカレーを食べました\n"
     ]
    },
    {
     "name": "stdin",
     "output_type": "stream",
     "text": [
      "おかわりはいかがですか？（y/n) y\n"
     ]
    },
    {
     "name": "stdout",
     "output_type": "stream",
     "text": [
      "5皿のカレーを食べました\n"
     ]
    },
    {
     "name": "stdin",
     "output_type": "stream",
     "text": [
      "おかわりはいかがですか？（y/n) n\n"
     ]
    },
    {
     "name": "stdout",
     "output_type": "stream",
     "text": [
      "ごちそうさまでした\n"
     ]
    }
   ],
   "source": [
    "count = 1\n",
    "ans = True\n",
    "print('カレーを召し上がれ')\n",
    "while ans == True:\n",
    "    print(f'{count}皿のカレーを食べました')\n",
    "    res = input('おかわりはいかがですか？（y/n)')\n",
    "    if res == 'y':\n",
    "        count += 1\n",
    "    else:\n",
    "        ans = False\n",
    "        # break\n",
    "print('ごちそうさまでした')"
   ]
  },
  {
   "cell_type": "code",
   "execution_count": 55,
   "id": "b54bac0f-3982-49cc-8fa5-019458238c2a",
   "metadata": {},
   "outputs": [
    {
     "name": "stdout",
     "output_type": "stream",
     "text": [
      "10、9、8、7、6、5、4、3、2、1、Lift off!\n"
     ]
    }
   ],
   "source": [
    "for num in range(10):\n",
    "    print(10 - num, end='、')\n",
    "print('Lift off!')"
   ]
  },
  {
   "cell_type": "code",
   "execution_count": 59,
   "id": "95fc22d5-19f4-48f5-becf-29c79ad18c57",
   "metadata": {},
   "outputs": [
    {
     "name": "stdout",
     "output_type": "stream",
     "text": [
      "10、9、8、7、6、5、4、3、2、1、Lift off!\n"
     ]
    }
   ],
   "source": [
    "for n in range(10):\n",
    "    print('{}、'.format(10-n), end='')\n",
    "print('Lift off!')"
   ]
  },
  {
   "cell_type": "code",
   "execution_count": 63,
   "id": "e7cfdfc8-acfe-4f06-b368-c5664532024d",
   "metadata": {},
   "outputs": [
    {
     "name": "stdout",
     "output_type": "stream",
     "text": [
      "1 2 3 4 5 6 7 8 9 2 4 6 8 10 12 14 16 18 3 6 9 12 15 18 21 24 27 4 8 12 16 20 24 28 32 36 5 10 15 20 25 30 35 40 45 6 12 18 24 30 36 42 48 54 7 14 21 28 35 42 49 56 63 8 16 24 32 40 48 56 64 72 9 18 27 36 45 54 63 72 81 "
     ]
    }
   ],
   "source": [
    "for num1 in range(9):\n",
    "    num1 += 1\n",
    "    for num2 in range(9):\n",
    "        num2 += 1\n",
    "        print(num1 * num2, end=' ')"
   ]
  },
  {
   "cell_type": "code",
   "execution_count": 66,
   "id": "e40c6dd5-1193-4fb6-a280-10498ad5986b",
   "metadata": {},
   "outputs": [
    {
     "name": "stdout",
     "output_type": "stream",
     "text": [
      "1 × 1 = 1\n",
      "1 × 2 = 2\n",
      "1 × 3 = 3\n",
      "1 × 4 = 4\n",
      "1 × 5 = 5\n",
      "1 × 6 = 6\n",
      "1 × 7 = 7\n",
      "1 × 8 = 8\n",
      "1 × 9 = 9\n",
      "2 × 1 = 2\n",
      "2 × 2 = 4\n",
      "2 × 3 = 6\n",
      "2 × 4 = 8\n",
      "2 × 5 = 10\n",
      "2 × 6 = 12\n",
      "2 × 7 = 14\n",
      "2 × 8 = 16\n",
      "2 × 9 = 18\n",
      "3 × 1 = 3\n",
      "3 × 2 = 6\n",
      "3 × 3 = 9\n",
      "3 × 4 = 12\n",
      "3 × 5 = 15\n",
      "3 × 6 = 18\n",
      "3 × 7 = 21\n",
      "3 × 8 = 24\n",
      "3 × 9 = 27\n",
      "4 × 1 = 4\n",
      "4 × 2 = 8\n",
      "4 × 3 = 12\n",
      "4 × 4 = 16\n",
      "4 × 5 = 20\n",
      "4 × 6 = 24\n",
      "4 × 7 = 28\n",
      "4 × 8 = 32\n",
      "4 × 9 = 36\n",
      "5 × 1 = 5\n",
      "5 × 2 = 10\n",
      "5 × 3 = 15\n",
      "5 × 4 = 20\n",
      "5 × 5 = 25\n",
      "5 × 6 = 30\n",
      "5 × 7 = 35\n",
      "5 × 8 = 40\n",
      "5 × 9 = 45\n",
      "6 × 1 = 6\n",
      "6 × 2 = 12\n",
      "6 × 3 = 18\n",
      "6 × 4 = 24\n",
      "6 × 5 = 30\n",
      "6 × 6 = 36\n",
      "6 × 7 = 42\n",
      "6 × 8 = 48\n",
      "6 × 9 = 54\n",
      "7 × 1 = 7\n",
      "7 × 2 = 14\n",
      "7 × 3 = 21\n",
      "7 × 4 = 28\n",
      "7 × 5 = 35\n",
      "7 × 6 = 42\n",
      "7 × 7 = 49\n",
      "7 × 8 = 56\n",
      "7 × 9 = 63\n",
      "8 × 1 = 8\n",
      "8 × 2 = 16\n",
      "8 × 3 = 24\n",
      "8 × 4 = 32\n",
      "8 × 5 = 40\n",
      "8 × 6 = 48\n",
      "8 × 7 = 56\n",
      "8 × 8 = 64\n",
      "8 × 9 = 72\n",
      "9 × 1 = 9\n",
      "9 × 2 = 18\n",
      "9 × 3 = 27\n",
      "9 × 4 = 36\n",
      "9 × 5 = 45\n",
      "9 × 6 = 54\n",
      "9 × 7 = 63\n",
      "9 × 8 = 72\n",
      "9 × 9 = 81\n"
     ]
    }
   ],
   "source": [
    "for i in range(9):\n",
    "    for j in range(9):\n",
    "        print('{} × {} = {}'.format(i+1, j+1, (i+1)*(j+1)))"
   ]
  },
  {
   "cell_type": "code",
   "execution_count": 69,
   "id": "0e68be50-431c-4dc1-a297-ff09ac61d523",
   "metadata": {},
   "outputs": [
    {
     "name": "stdout",
     "output_type": "stream",
     "text": [
      "1×1=1\n",
      "1×2=2\n",
      "1×3=3\n",
      "1×4=4\n",
      "1×5=5\n",
      "1×6=6\n",
      "1×7=7\n",
      "1×8=8\n",
      "1×9=9\n",
      "3×1=3\n",
      "3×2=6\n",
      "3×3=9\n",
      "3×4=12\n",
      "3×5=15\n",
      "3×6=18\n",
      "3×7=21\n",
      "3×8=24\n",
      "3×9=27\n",
      "5×1=5\n",
      "5×2=10\n",
      "5×3=15\n",
      "5×4=20\n",
      "5×5=25\n",
      "5×6=30\n",
      "5×7=35\n",
      "5×8=40\n",
      "5×9=45\n",
      "7×1=7\n",
      "7×2=14\n",
      "7×3=21\n",
      "7×4=28\n",
      "7×5=35\n",
      "7×6=42\n",
      "7×7=49\n",
      "7×8=56\n",
      "7×9=63\n",
      "9×1=9\n",
      "9×2=18\n",
      "9×3=27\n",
      "9×4=36\n",
      "9×5=45\n",
      "9×6=54\n",
      "9×7=63\n",
      "9×8=72\n",
      "9×9=81\n"
     ]
    }
   ],
   "source": [
    "for num1 in range(9):\n",
    "    if (num1+1) % 2 == 0:\n",
    "        continue\n",
    "    for num2 in range(9):\n",
    "        print('{}×{}={}'.format(num1+1, num2+1,(num1+1)*(num2+1)))"
   ]
  },
  {
   "cell_type": "code",
   "execution_count": 70,
   "id": "f83b7eab-1615-46d7-a966-aa4465ae6a8e",
   "metadata": {},
   "outputs": [
    {
     "name": "stdout",
     "output_type": "stream",
     "text": [
      "1*1=1\n",
      "1*2=2\n",
      "1*3=3\n",
      "1*4=4\n",
      "1*5=5\n",
      "1*6=6\n",
      "1*7=7\n",
      "1*8=8\n",
      "1*9=9\n",
      "3*1=3\n",
      "3*2=6\n",
      "3*3=9\n",
      "3*4=12\n",
      "3*5=15\n",
      "3*6=18\n",
      "3*7=21\n",
      "3*8=24\n",
      "3*9=27\n",
      "5*1=5\n",
      "5*2=10\n",
      "5*3=15\n",
      "5*4=20\n",
      "5*5=25\n",
      "5*6=30\n",
      "5*7=35\n",
      "5*8=40\n",
      "5*9=45\n",
      "7*1=7\n",
      "7*2=14\n",
      "7*3=21\n",
      "7*4=28\n",
      "7*5=35\n",
      "7*6=42\n",
      "7*7=49\n",
      "9*1=9\n",
      "9*2=18\n",
      "9*3=27\n",
      "9*4=36\n",
      "9*5=45\n"
     ]
    }
   ],
   "source": [
    "for num1 in range(9):\n",
    "    if (num1+1) % 2 == 0:\n",
    "        continue\n",
    "    for num2 in range(9):\n",
    "        if (num1+1)*(num2+1) > 50:\n",
    "            break\n",
    "        print('{}*{}={}'.format(num1+1,num2+1,(num1+1)*(num2+1)))"
   ]
  },
  {
   "cell_type": "code",
   "execution_count": 75,
   "id": "c58c6119-ed4e-4373-bbf2-391e9d635068",
   "metadata": {},
   "outputs": [
    {
     "name": "stdin",
     "output_type": "stream",
     "text": [
      "8時の数値を入力してください 7.8\n",
      "9時の数値を入力してください 9.1\n",
      "10時の数値を入力してください 10.2\n",
      "11時の数値を入力してください 11.0\n",
      "12時の数値を入力してください 12.5\n",
      "13時の数値を入力してください 12.4\n",
      "14時の数値を入力してください 14.3\n",
      "15時の数値を入力してください 13.8\n",
      "16時の数値を入力してください 12.9\n",
      "17時の数値を入力してください 12.4\n"
     ]
    },
    {
     "name": "stdout",
     "output_type": "stream",
     "text": [
      "[7.8, 9.1, 10.2, 11.0, 12.5, 12.4, 14.3, 13.8, 12.9, 12.4]\n"
     ]
    }
   ],
   "source": [
    "temp = list()\n",
    "for num in range(10):\n",
    "    temp.append(float(input(f'{num+8}時の数値を入力してください')))\n",
    "print(temp)"
   ]
  },
  {
   "cell_type": "code",
   "execution_count": 78,
   "id": "eaaa7239-9c47-4c49-8039-fb36c63c8422",
   "metadata": {},
   "outputs": [
    {
     "name": "stdin",
     "output_type": "stream",
     "text": [
      "8時の数値を入力してください 7.8\n",
      "9時の数値を入力してください 9.1\n",
      "10時の数値を入力してください 10.2\n",
      "11時の数値を入力してください 11.0\n",
      "12時の数値を入力してください 12.5\n",
      "13時の数値を入力してください 12.4\n",
      "14時の数値を入力してください 14.3\n",
      "15時の数値を入力してください 13.8\n",
      "16時の数値を入力してください 12.9\n",
      "17時の数値を入力してください 12.4\n"
     ]
    },
    {
     "name": "stdout",
     "output_type": "stream",
     "text": [
      "8時：7.8度\n",
      "9時：9.1度\n",
      "10時：10.2度\n",
      "11時：11.0度\n",
      "12時：12.5度\n",
      "13時：12.4度\n",
      "14時：14.3度\n",
      "15時：13.8度\n",
      "16時：12.9度\n",
      "17時：12.4度\n"
     ]
    }
   ],
   "source": [
    "temp = list()\n",
    "for num in range(10):\n",
    "    temp.append(float(input(f'{num+8}時の数値を入力してください')))\n",
    "for count in range(len(temp)):\n",
    "    print(f'{count+8}時：{temp[count]}度')"
   ]
  },
  {
   "cell_type": "code",
   "execution_count": 89,
   "id": "ff3dd58e-3075-4278-a489-99632219e741",
   "metadata": {},
   "outputs": [
    {
     "name": "stdout",
     "output_type": "stream",
     "text": [
      "[7.8, 9.1, 10.2, 11.0, 12.5, 12.4, 14.3, 13.8, 12.9, 12.4]\n",
      "[7.8, 9.1, 10.2, 11.0, 12.5, 'N/A', 14.3, 13.8, 12.9, 12.4]\n"
     ]
    }
   ],
   "source": [
    "temp_new =list()\n",
    "for count in range(len(temp)):\n",
    "    if count == 5:\n",
    "        temp_new.append('N/A')\n",
    "    else:\n",
    "        temp_new.append(temp[count])\n",
    "print(temp)\n",
    "print(temp_new)"
   ]
  },
  {
   "cell_type": "code",
   "execution_count": 93,
   "id": "a7a4c29f-7d3d-489e-b311-7c3b4572d8bc",
   "metadata": {},
   "outputs": [
    {
     "name": "stdout",
     "output_type": "stream",
     "text": [
      "平均気温11.555555555555555\n",
      "104.0\n"
     ]
    }
   ],
   "source": [
    "total = 0\n",
    "for data in temp_new:\n",
    "    if isinstance(data, float):\n",
    "        total += data\n",
    "print(f'平均気温{total/((len(temp_new))-1)}'"
   ]
  },
  {
   "cell_type": "code",
   "execution_count": 95,
   "id": "57412bd1-8da0-4ffb-bade-03e334dd5ff3",
   "metadata": {},
   "outputs": [
    {
     "name": "stdout",
     "output_type": "stream",
     "text": [
      "[1, 1, 2, 3, 5, 8, 13, 21, 34, 55, 89, 144, 233, 377, 610, 987, 1597]\n"
     ]
    }
   ],
   "source": [
    "numbers = [1,1]\n",
    "element = 0\n",
    "count = 0\n",
    "while element <= 1000:\n",
    "    element = numbers[count] + numbers[count+1]\n",
    "    if element > 1000:\n",
    "        break\n",
    "    numbers.append(element)\n",
    "    count += 1\n",
    "print(numbers)"
   ]
  },
  {
   "cell_type": "code",
   "execution_count": 97,
   "id": "142425a2-0420-4cd4-9a0a-e111a775efdc",
   "metadata": {},
   "outputs": [
    {
     "name": "stdout",
     "output_type": "stream",
     "text": [
      "[1, 1, 2, 3, 5, 8, 13, 21, 34, 55, 89, 144, 233, 377, 610, 987]\n"
     ]
    }
   ],
   "source": [
    "numbers = [1,1]\n",
    "data = sum(numbers)\n",
    "count = 2\n",
    "while data <= 1000:\n",
    "    numbers.append(data)\n",
    "    data = data + numbers[count-1]\n",
    "    count += 1\n",
    "print(numbers)"
   ]
  },
  {
   "cell_type": "code",
   "execution_count": 103,
   "id": "fa8a1eca-de46-498e-a23f-47d887ea86f1",
   "metadata": {},
   "outputs": [
    {
     "name": "stdout",
     "output_type": "stream",
     "text": [
      "[1.0, 2.0, 1.5, 1.6666666666666667, 1.6, 1.625, 1.6153846153846154, 1.619047619047619, 1.6176470588235294, 1.6181818181818182, 1.6179775280898876, 1.6180555555555556, 1.6180257510729614, 1.6180371352785146, 1.618032786885246]\n"
     ]
    }
   ],
   "source": [
    "ratios = list()\n",
    "for count in range(len(numbers)-1):\n",
    "    data = numbers[count+1] / numbers[count]\n",
    "    ratios.append(data)\n",
    "print(ratios)"
   ]
  },
  {
   "cell_type": "code",
   "execution_count": 111,
   "id": "c6634085-d284-4068-9248-15c8760187de",
   "metadata": {},
   "outputs": [
    {
     "name": "stdout",
     "output_type": "stream",
     "text": [
      "[1.0, 2.0, 1.5, 1.6666666666666667, 1.6, 1.625, 1.6153846153846154, 1.619047619047619, 1.6176470588235294, 1.6181818181818182, 1.6179775280898876, 1.6180555555555556, 1.6180257510729614, 1.6180371352785146, 1.618032786885246]\n"
     ]
    }
   ],
   "source": [
    "ratios = list()\n",
    "for count in range(len(numbers)):\n",
    "    if count == len(numbers) - 1:\n",
    "        break\n",
    "    ratios.append(numbers[count+1] / numbers[count])\n",
    "print(ratios)"
   ]
  },
  {
   "cell_type": "code",
   "execution_count": 110,
   "id": "23af6517-3a4d-472e-ad91-70fc87e359f5",
   "metadata": {},
   "outputs": [
    {
     "name": "stdout",
     "output_type": "stream",
     "text": [
      "[1.0, 1.0, 2.0, 3.0, 5.0, 8.0, 13.0, 21.0, 34.0, 55.0, 89.0, 144.0, 233.0, 377.0, 610.0]\n"
     ]
    }
   ],
   "source": [
    "for count in range(len(ratios)):\n",
    "    ratios[count] = int(ratios[count] * 1000) / 1000\n",
    "print(ratios)"
   ]
  },
  {
   "cell_type": "code",
   "execution_count": null,
   "id": "526b5961-5cf9-4bcf-9da2-2f74f1bee342",
   "metadata": {},
   "outputs": [],
   "source": []
  }
 ],
 "metadata": {
  "kernelspec": {
   "display_name": "Python 3 (ipykernel)",
   "language": "python",
   "name": "python3"
  },
  "language_info": {
   "codemirror_mode": {
    "name": "ipython",
    "version": 3
   },
   "file_extension": ".py",
   "mimetype": "text/x-python",
   "name": "python",
   "nbconvert_exporter": "python",
   "pygments_lexer": "ipython3",
   "version": "3.9.7"
  }
 },
 "nbformat": 4,
 "nbformat_minor": 5
}
