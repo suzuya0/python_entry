{
 "cells": [
  {
   "cell_type": "code",
   "execution_count": 1,
   "id": "4e84255e-ac11-4fb3-af60-15be08871da2",
   "metadata": {},
   "outputs": [
    {
     "name": "stdout",
     "output_type": "stream",
     "text": [
      "さあ、寝ようかしら\n",
      "ひつじが1匹\n",
      "ひつじが2匹\n",
      "ひつじが3匹\n",
      "おやすみなさい\n"
     ]
    }
   ],
   "source": [
    "print('さあ、寝ようかしら')\n",
    "count = 0\n",
    "count += 1\n",
    "print(f'ひつじが{count}匹')\n",
    "count += 1\n",
    "print(f'ひつじが{count}匹')\n",
    "count += 1\n",
    "print(f'ひつじが{count}匹')\n",
    "print('おやすみなさい')"
   ]
  },
  {
   "cell_type": "code",
   "execution_count": 2,
   "id": "c07b1523-7258-4309-85a5-1b01b94c50d4",
   "metadata": {},
   "outputs": [
    {
     "name": "stdout",
     "output_type": "stream",
     "text": [
      "ひつじが1匹\n",
      "ひつじが2匹\n",
      "ひつじが3匹\n",
      "おやすみなさい\n"
     ]
    }
   ],
   "source": [
    "count = 0\n",
    "while count < 3:\n",
    "    count += 1\n",
    "    print(f'ひつじが{count}匹')\n",
    "print('おやすみなさい')"
   ]
  },
  {
   "cell_type": "code",
   "execution_count": 6,
   "id": "cbd31f07-4c67-41c5-8e48-a8a7a5b0543f",
   "metadata": {},
   "outputs": [
    {
     "name": "stdout",
     "output_type": "stream",
     "text": [
      "すやすや…zzz\n"
     ]
    }
   ],
   "source": [
    "count = 0\n",
    "# while count < 3:\n",
    "    print(f'ひつじが{count}匹')\n",
    "print('すやすや…zzz')"
   ]
  },
  {
   "cell_type": "code",
   "execution_count": 12,
   "id": "2302efd4-1d4c-4498-8ef3-dc5ec9e0dcf5",
   "metadata": {},
   "outputs": [
    {
     "name": "stdout",
     "output_type": "stream",
     "text": [
      "ひつじが1匹\n"
     ]
    },
    {
     "name": "stdin",
     "output_type": "stream",
     "text": [
      "もう眠りそうですか(y/n)>> n\n"
     ]
    },
    {
     "name": "stdout",
     "output_type": "stream",
     "text": [
      "ひつじが2匹\n"
     ]
    },
    {
     "name": "stdin",
     "output_type": "stream",
     "text": [
      "もう眠りそうですか(y/n)>> n\n"
     ]
    },
    {
     "name": "stdout",
     "output_type": "stream",
     "text": [
      "ひつじが3匹\n"
     ]
    },
    {
     "name": "stdin",
     "output_type": "stream",
     "text": [
      "もう眠りそうですか(y/n)>> n\n"
     ]
    },
    {
     "name": "stdout",
     "output_type": "stream",
     "text": [
      "ひつじが4匹\n"
     ]
    },
    {
     "name": "stdin",
     "output_type": "stream",
     "text": [
      "もう眠りそうですか(y/n)>> n\n"
     ]
    },
    {
     "name": "stdout",
     "output_type": "stream",
     "text": [
      "ひつじが5匹\n"
     ]
    },
    {
     "name": "stdin",
     "output_type": "stream",
     "text": [
      "もう眠りそうですか(y/n)>> n\n"
     ]
    },
    {
     "name": "stdout",
     "output_type": "stream",
     "text": [
      "ひつじが6匹\n"
     ]
    },
    {
     "name": "stdin",
     "output_type": "stream",
     "text": [
      "もう眠りそうですか(y/n)>> y\n"
     ]
    },
    {
     "name": "stdout",
     "output_type": "stream",
     "text": [
      "おやすみなさい\n"
     ]
    }
   ],
   "source": [
    "is_awake = True\n",
    "count = 0\n",
    "while is_awake ==True:\n",
    "    count += 1\n",
    "    print(f'ひつじが{count}匹')\n",
    "    key = input('もう眠りそうですか(y/n)>>')\n",
    "    if key == 'y':\n",
    "        is_awake = False\n",
    "print('おやすみなさい')"
   ]
  },
  {
   "cell_type": "code",
   "execution_count": 15,
   "id": "21652527-23dc-4231-9386-9778bcbef40d",
   "metadata": {},
   "outputs": [
    {
     "name": "stdin",
     "output_type": "stream",
     "text": [
      "学生の数を入力>> 6\n",
      "1人目の試験の得点を入力>> 80\n",
      "2人目の試験の得点を入力>> 70\n",
      "3人目の試験の得点を入力>> 60\n",
      "4人目の試験の得点を入力>> 50\n",
      "5人目の試験の得点を入力>> 40\n",
      "6人目の試験の得点を入力>> 30\n"
     ]
    },
    {
     "name": "stdout",
     "output_type": "stream",
     "text": [
      "[80, 70, 60, 50, 40, 30]\n",
      "平均点は55.0点です\n"
     ]
    }
   ],
   "source": [
    "count = 0\n",
    "student_num = int(input('学生の数を入力>>'))\n",
    "score_list = list()\n",
    "while count < student_num:\n",
    "    count += 1\n",
    "    score = int(input(f'{count}人目の試験の得点を入力>>'))\n",
    "    score_list.append(score)\n",
    "print(score_list)\n",
    "total = sum(score_list)\n",
    "print(f'平均点は{ total / student_num }点です')"
   ]
  },
  {
   "cell_type": "code",
   "execution_count": 17,
   "id": "d17227fc-66d7-44dd-b9f2-19327d78a3d0",
   "metadata": {},
   "outputs": [
    {
     "name": "stdout",
     "output_type": "stream",
     "text": [
      "合格\n",
      "不合格\n",
      "合格\n",
      "合格\n",
      "不合格\n"
     ]
    }
   ],
   "source": [
    "scores = [80, 20, 75, 60, 7]\n",
    "count = 0\n",
    "while count < len(scores):\n",
    "    if scores[count] >= 60:\n",
    "        print('合格')\n",
    "    else:\n",
    "        print('不合格')\n",
    "    count += 1"
   ]
  },
  {
   "cell_type": "code",
   "execution_count": null,
   "id": "4f4d7b36-c663-4938-b677-f523758ba5bb",
   "metadata": {},
   "outputs": [],
   "source": []
  }
 ],
 "metadata": {
  "kernelspec": {
   "display_name": "Python 3 (ipykernel)",
   "language": "python",
   "name": "python3"
  },
  "language_info": {
   "codemirror_mode": {
    "name": "ipython",
    "version": 3
   },
   "file_extension": ".py",
   "mimetype": "text/x-python",
   "name": "python",
   "nbconvert_exporter": "python",
   "pygments_lexer": "ipython3",
   "version": "3.9.7"
  }
 },
 "nbformat": 4,
 "nbformat_minor": 5
}
